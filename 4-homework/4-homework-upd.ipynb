{
 "cells": [
  {
   "cell_type": "markdown",
   "metadata": {},
   "source": [
    "### 1."
   ]
  },
  {
   "cell_type": "code",
   "execution_count": 1,
   "metadata": {},
   "outputs": [],
   "source": [
    "# Create a list\n",
    "list_a = []\n",
    "list_a.append('hello')\n",
    "list_a.append(4)\n",
    "list_a.append('5')\n",
    "list_a += 'a'\n",
    "list_a.append(4.5)"
   ]
  },
  {
   "cell_type": "code",
   "execution_count": 3,
   "metadata": {},
   "outputs": [],
   "source": [
    "# Append a list_b to list_a \n",
    "list_b = [11, '14', 'bye']\n",
    "list_a += list_b "
   ]
  },
  {
   "cell_type": "code",
   "execution_count": 5,
   "metadata": {},
   "outputs": [],
   "source": [
    "# Delete an element from the list \n",
    "del list_a[7]"
   ]
  },
  {
   "cell_type": "code",
   "execution_count": 6,
   "metadata": {},
   "outputs": [],
   "source": [
    "# Remove an element from the list \n",
    "list_a.remove('a')"
   ]
  },
  {
   "cell_type": "code",
   "execution_count": 7,
   "metadata": {},
   "outputs": [],
   "source": [
    "# Change an element in the list \n",
    "list_a[1] = 10"
   ]
  },
  {
   "cell_type": "code",
   "execution_count": 8,
   "metadata": {},
   "outputs": [
    {
     "data": {
      "text/plain": [
       "1"
      ]
     },
     "execution_count": 8,
     "metadata": {},
     "output_type": "execute_result"
    }
   ],
   "source": [
    "# Count an element '10' in the list\n",
    "list_a.count(10)"
   ]
  },
  {
   "cell_type": "code",
   "execution_count": 9,
   "metadata": {},
   "outputs": [
    {
     "data": {
      "text/plain": [
       "2"
      ]
     },
     "execution_count": 9,
     "metadata": {},
     "output_type": "execute_result"
    }
   ],
   "source": [
    "# Check the сounting the element \n",
    "list_a.append(10)\n",
    "list_a.count(10)"
   ]
  },
  {
   "cell_type": "code",
   "execution_count": 10,
   "metadata": {},
   "outputs": [
    {
     "data": {
      "text/plain": [
       "7"
      ]
     },
     "execution_count": 10,
     "metadata": {},
     "output_type": "execute_result"
    }
   ],
   "source": [
    "# Check the length of the list \n",
    "len(list_a)"
   ]
  },
  {
   "cell_type": "markdown",
   "metadata": {},
   "source": [
    "### 2. "
   ]
  },
  {
   "cell_type": "code",
   "execution_count": 11,
   "metadata": {},
   "outputs": [
    {
     "name": "stdout",
     "output_type": "stream",
     "text": [
      "(0, 1, 2, 3, 4, 'bye', 3.3)\n"
     ]
    }
   ],
   "source": [
    "# Tuple is the inmutable data, we can change it by using of list \n",
    "tuple_b = ()\n",
    "list_c = list(tuple_b)\n",
    "for i in range(5):\n",
    "    list_c.append(i)\n",
    "list_c.append('bye')\n",
    "list_c.append(3.3)\n",
    "tuple_b = tuple(list_c)\n",
    "print(tuple_b)"
   ]
  },
  {
   "cell_type": "code",
   "execution_count": 12,
   "metadata": {},
   "outputs": [
    {
     "name": "stdout",
     "output_type": "stream",
     "text": [
      "(0, 1, 2, 3, 4, 'bye', 3.3, '5', 6)\n"
     ]
    }
   ],
   "source": [
    "tuple_c = ('5', 6)\n",
    "tuple_b += tuple_c\n",
    "print(tuple_b)"
   ]
  },
  {
   "cell_type": "code",
   "execution_count": 13,
   "metadata": {},
   "outputs": [
    {
     "name": "stdout",
     "output_type": "stream",
     "text": [
      "(1, 2, 3, 4, 3.3, '5', 6)\n"
     ]
    }
   ],
   "source": [
    "# We can delete an element by using of list too \n",
    "list_a = list(tuple_b)\n",
    "list_a.remove(0)\n",
    "list_a.remove('bye')\n",
    "tuple_b = tuple(list_a)\n",
    "print(tuple_b)"
   ]
  },
  {
   "cell_type": "code",
   "execution_count": 14,
   "metadata": {},
   "outputs": [
    {
     "name": "stdout",
     "output_type": "stream",
     "text": [
      "(1, 10, 3, 4, 3.3, '5', 6)\n"
     ]
    }
   ],
   "source": [
    "# We can change the element by list too \n",
    "list_a = list(tuple_b)\n",
    "list_a[1] = 10\n",
    "tuple_b = tuple(list_a)\n",
    "print(tuple_b)"
   ]
  },
  {
   "cell_type": "code",
   "execution_count": 15,
   "metadata": {},
   "outputs": [
    {
     "data": {
      "text/plain": [
       "1"
      ]
     },
     "execution_count": 15,
     "metadata": {},
     "output_type": "execute_result"
    }
   ],
   "source": [
    "# Count an element '1' in the tuple\n",
    "tuple_b.count(1)"
   ]
  },
  {
   "cell_type": "code",
   "execution_count": 17,
   "metadata": {},
   "outputs": [
    {
     "data": {
      "text/plain": [
       "7"
      ]
     },
     "execution_count": 17,
     "metadata": {},
     "output_type": "execute_result"
    }
   ],
   "source": [
    "# Check the length of the tuple\n",
    "len(tuple_b)"
   ]
  },
  {
   "cell_type": "markdown",
   "metadata": {},
   "source": [
    "### 3."
   ]
  },
  {
   "cell_type": "code",
   "execution_count": 20,
   "metadata": {},
   "outputs": [
    {
     "name": "stdout",
     "output_type": "stream",
     "text": [
      "Hi, Petr\n",
      "Hi, Alex\n",
      "Hi, Nastya\n",
      "Hi, Masha\n",
      "Hi, everyone!\n"
     ]
    }
   ],
   "source": [
    "friends = ['Petr', 'Alex', 'Nastya', 'Masha']\n",
    "for element in friends:\n",
    "    print('Hi, ' + element)\n",
    "print('Hi, everyone!')"
   ]
  },
  {
   "cell_type": "markdown",
   "metadata": {},
   "source": [
    "### 4."
   ]
  },
  {
   "cell_type": "code",
   "execution_count": 22,
   "metadata": {},
   "outputs": [
    {
     "name": "stdout",
     "output_type": "stream",
     "text": [
      "[11, -2, -6]\n"
     ]
    }
   ],
   "source": [
    "list_first = [1, -5, 2]\n",
    "list_second = [10, 3, -8]\n",
    "required_list = []\n",
    "for i in range(len(list_first)):\n",
    "    required_list.append(list_first[i] + list_second[i])\n",
    "print(required_list)"
   ]
  },
  {
   "cell_type": "markdown",
   "metadata": {},
   "source": [
    "### 5."
   ]
  },
  {
   "cell_type": "code",
   "execution_count": 28,
   "metadata": {},
   "outputs": [
    {
     "name": "stdout",
     "output_type": "stream",
     "text": [
      "Введите длины сторон треугольника 4 5 6\n",
      "Треугольник разносторонний\n"
     ]
    }
   ],
   "source": [
    "a, b, c = (int(i) for i in input('Введите длины сторон треугольника ').split())\n",
    "if (a < b+c) and (b < a+c) and (c < a+b):\n",
    "    if a == b and b == c and a == c:\n",
    "        print('Треугольник равносторонний')\n",
    "    elif a==b or a==c or c==b:\n",
    "        print('Треугольник равнобедренный')\n",
    "    else:\n",
    "        print('Треугольник разносторонний')\n",
    "else:\n",
    "    print('Треугольника не существует!')"
   ]
  },
  {
   "cell_type": "markdown",
   "metadata": {},
   "source": [
    "### 6."
   ]
  },
  {
   "cell_type": "code",
   "execution_count": 23,
   "metadata": {},
   "outputs": [
    {
     "name": "stdout",
     "output_type": "stream",
     "text": [
      "[('fruit', 5), 2, 1]\n"
     ]
    }
   ],
   "source": [
    "elements = [1, 2, ('fruit', 5)]\n",
    "print(elements[::-1])"
   ]
  },
  {
   "cell_type": "code",
   "execution_count": 24,
   "metadata": {},
   "outputs": [
    {
     "name": "stdout",
     "output_type": "stream",
     "text": [
      "[('fruit', 5), 2, 1]\n"
     ]
    }
   ],
   "source": [
    "elements = [1, 2, ('fruit', 5)]\n",
    "print(list(reversed(elements)))"
   ]
  },
  {
   "cell_type": "code",
   "execution_count": 25,
   "metadata": {},
   "outputs": [
    {
     "name": "stdout",
     "output_type": "stream",
     "text": [
      "[('fruit', 5), 2, 1]\n"
     ]
    }
   ],
   "source": [
    "elements.reverse()\n",
    "print(elements)"
   ]
  },
  {
   "cell_type": "markdown",
   "metadata": {},
   "source": [
    "### 7. "
   ]
  },
  {
   "cell_type": "code",
   "execution_count": 31,
   "metadata": {},
   "outputs": [
    {
     "name": "stdout",
     "output_type": "stream",
     "text": [
      "74\n"
     ]
    }
   ],
   "source": [
    "interesting_numbers = (3, 2, 5, 7, 14, 26, 32, 31, 37)\n",
    "summa = 0\n",
    "for elem in interesting_numbers:\n",
    "    if elem % 2 == 0:\n",
    "        summa+=int(elem)\n",
    "print(summa)"
   ]
  }
 ],
 "metadata": {
  "kernelspec": {
   "display_name": "Python 3",
   "language": "python",
   "name": "python3"
  },
  "language_info": {
   "codemirror_mode": {
    "name": "ipython",
    "version": 3
   },
   "file_extension": ".py",
   "mimetype": "text/x-python",
   "name": "python",
   "nbconvert_exporter": "python",
   "pygments_lexer": "ipython3",
   "version": "3.6.5"
  }
 },
 "nbformat": 4,
 "nbformat_minor": 2
}
