{
 "cells": [
  {
   "cell_type": "markdown",
   "metadata": {},
   "source": [
    "### 1."
   ]
  },
  {
   "cell_type": "code",
   "execution_count": 1,
   "metadata": {},
   "outputs": [],
   "source": [
    "set_a = set([])\n",
    "set_a.add(11)\n",
    "set_a.add('apple')\n",
    "set_a.add(False)"
   ]
  },
  {
   "cell_type": "code",
   "execution_count": 2,
   "metadata": {},
   "outputs": [
    {
     "data": {
      "text/plain": [
       "{11, False, 'apple'}"
      ]
     },
     "execution_count": 2,
     "metadata": {},
     "output_type": "execute_result"
    }
   ],
   "source": [
    "set_a"
   ]
  },
  {
   "cell_type": "code",
   "execution_count": 4,
   "metadata": {},
   "outputs": [],
   "source": [
    "set_b = set([12, 'banana'])\n",
    "set_a_b = set_a.union(set_b)"
   ]
  },
  {
   "cell_type": "code",
   "execution_count": 5,
   "metadata": {},
   "outputs": [
    {
     "data": {
      "text/plain": [
       "{11, 12, False, 'apple', 'banana'}"
      ]
     },
     "execution_count": 5,
     "metadata": {},
     "output_type": "execute_result"
    }
   ],
   "source": [
    "set_a_b"
   ]
  },
  {
   "cell_type": "code",
   "execution_count": 6,
   "metadata": {},
   "outputs": [],
   "source": [
    "set_c = set(['apple'])\n",
    "set_a_c = set_a.intersection(set_c)"
   ]
  },
  {
   "cell_type": "code",
   "execution_count": 7,
   "metadata": {},
   "outputs": [
    {
     "data": {
      "text/plain": [
       "{'apple'}"
      ]
     },
     "execution_count": 7,
     "metadata": {},
     "output_type": "execute_result"
    }
   ],
   "source": [
    "set_a_c"
   ]
  },
  {
   "cell_type": "code",
   "execution_count": 8,
   "metadata": {},
   "outputs": [],
   "source": [
    "set_ab_min_c = set_a_b - set_c"
   ]
  },
  {
   "cell_type": "code",
   "execution_count": 9,
   "metadata": {},
   "outputs": [
    {
     "data": {
      "text/plain": [
       "{11, 12, False, 'banana'}"
      ]
     },
     "execution_count": 9,
     "metadata": {},
     "output_type": "execute_result"
    }
   ],
   "source": [
    "set_ab_min_c"
   ]
  },
  {
   "cell_type": "code",
   "execution_count": 10,
   "metadata": {},
   "outputs": [],
   "source": [
    "set_a_b_ab_min_c = set_a_b.symmetric_difference(set_ab_min_c)"
   ]
  },
  {
   "cell_type": "code",
   "execution_count": 11,
   "metadata": {},
   "outputs": [
    {
     "data": {
      "text/plain": [
       "{'apple'}"
      ]
     },
     "execution_count": 11,
     "metadata": {},
     "output_type": "execute_result"
    }
   ],
   "source": [
    "set_a_b_ab_min_c"
   ]
  },
  {
   "cell_type": "code",
   "execution_count": 13,
   "metadata": {},
   "outputs": [
    {
     "name": "stdout",
     "output_type": "stream",
     "text": [
      "0\n"
     ]
    }
   ],
   "source": [
    "# If subtraction from the first set the second set will be len(0), the first set was in the second \n",
    "set_a1 = set([1,2,3,4])\n",
    "set_a2 = set([1,2])\n",
    "set_new = set_a2 - set_a1\n",
    "print(len(set_new))"
   ]
  },
  {
   "cell_type": "markdown",
   "metadata": {},
   "source": [
    "### 2."
   ]
  },
  {
   "cell_type": "code",
   "execution_count": 15,
   "metadata": {},
   "outputs": [],
   "source": [
    "dict_1 = {}"
   ]
  },
  {
   "cell_type": "code",
   "execution_count": 28,
   "metadata": {},
   "outputs": [],
   "source": [
    "dict_1['key1'] = 'value1'\n",
    "dict_1['key2'] = 'value2'\n",
    "dict_1['key3'] = 'value3'\n",
    "dict_1['key4'] = 1, 5, 6"
   ]
  },
  {
   "cell_type": "code",
   "execution_count": 29,
   "metadata": {},
   "outputs": [
    {
     "data": {
      "text/plain": [
       "{'key2': 'value2', 'key3': 'value3', 'key1': 'value1', 'key4': (1, 5, 6)}"
      ]
     },
     "execution_count": 29,
     "metadata": {},
     "output_type": "execute_result"
    }
   ],
   "source": [
    "dict_1"
   ]
  },
  {
   "cell_type": "code",
   "execution_count": 30,
   "metadata": {},
   "outputs": [],
   "source": [
    "del dict_1['key1']"
   ]
  },
  {
   "cell_type": "code",
   "execution_count": 31,
   "metadata": {},
   "outputs": [
    {
     "data": {
      "text/plain": [
       "{'key2': 'value2', 'key3': 'value3', 'key4': (1, 5, 6)}"
      ]
     },
     "execution_count": 31,
     "metadata": {},
     "output_type": "execute_result"
    }
   ],
   "source": [
    "dict_1"
   ]
  },
  {
   "cell_type": "code",
   "execution_count": 32,
   "metadata": {},
   "outputs": [
    {
     "data": {
      "text/plain": [
       "'value2'"
      ]
     },
     "execution_count": 32,
     "metadata": {},
     "output_type": "execute_result"
    }
   ],
   "source": [
    "dict_1.get('key2')"
   ]
  },
  {
   "cell_type": "code",
   "execution_count": 33,
   "metadata": {},
   "outputs": [
    {
     "name": "stdout",
     "output_type": "stream",
     "text": [
      "Oh, it is a value2\n"
     ]
    }
   ],
   "source": [
    "print('Oh, it is a', dict_1.get('key2'))"
   ]
  },
  {
   "cell_type": "code",
   "execution_count": 34,
   "metadata": {},
   "outputs": [
    {
     "name": "stdout",
     "output_type": "stream",
     "text": [
      "12\n"
     ]
    }
   ],
   "source": [
    "print(sum(dict_1.get('key4')))"
   ]
  },
  {
   "cell_type": "markdown",
   "metadata": {},
   "source": [
    "### 3."
   ]
  },
  {
   "cell_type": "code",
   "execution_count": 4,
   "metadata": {},
   "outputs": [],
   "source": [
    "dict_2 = {'key1' : 'value1', 'key2' : 'value2', 'key3' : (1,2,3,4)}"
   ]
  },
  {
   "cell_type": "code",
   "execution_count": 5,
   "metadata": {},
   "outputs": [
    {
     "name": "stdout",
     "output_type": "stream",
     "text": [
      "key1 key2 key3 "
     ]
    }
   ],
   "source": [
    "for key in dict_2:\n",
    "    print(key, end = ' ')"
   ]
  },
  {
   "cell_type": "code",
   "execution_count": 6,
   "metadata": {},
   "outputs": [
    {
     "name": "stdout",
     "output_type": "stream",
     "text": [
      "key1 key2 key3 "
     ]
    }
   ],
   "source": [
    "for key in dict_2.keys():\n",
    "    print(key, end = ' ')"
   ]
  },
  {
   "cell_type": "code",
   "execution_count": 7,
   "metadata": {},
   "outputs": [
    {
     "name": "stdout",
     "output_type": "stream",
     "text": [
      "value1 value2 (1, 2, 3, 4) "
     ]
    }
   ],
   "source": [
    "for item in dict_2.values():\n",
    "    print(item, end = ' ')"
   ]
  },
  {
   "cell_type": "code",
   "execution_count": 8,
   "metadata": {},
   "outputs": [
    {
     "name": "stdout",
     "output_type": "stream",
     "text": [
      "key1 value1; key2 value2; key3 (1, 2, 3, 4); "
     ]
    }
   ],
   "source": [
    "for key, value in dict_2.items():\n",
    "    print(key, value, end = '; ')"
   ]
  },
  {
   "cell_type": "markdown",
   "metadata": {},
   "source": [
    "### 4."
   ]
  },
  {
   "cell_type": "code",
   "execution_count": 2,
   "metadata": {},
   "outputs": [
    {
     "name": "stdout",
     "output_type": "stream",
     "text": [
      "Input the string: Hello, it's a fire aa !!\n",
      "The string starts from the capital letter\n",
      "Number of letter: 15\n",
      "The string ends by !!\n",
      "\"Fire\" in the string 1\n",
      "Lower string: hello, it's a fire aa !!\n",
      "Upper string: HELLO, IT'S A FIRE AA !!\n",
      "Every word form capital letter: Hello, It'S A Fire Aa !!\n"
     ]
    }
   ],
   "source": [
    "s = input('Input the string: ')\n",
    "if s[0].isupper():\n",
    "    print('The string starts from the capital letter')\n",
    "else:\n",
    "    print('The string does not start from the capital letter')\n",
    "sum_char = 0\n",
    "for elem in s:\n",
    "    if elem.isalpha() == True:\n",
    "        sum_char += 1\n",
    "print('Number of letter:', sum_char)\n",
    "length_s = len(s)\n",
    "if s.endswith('!!'):\n",
    "    print('The string ends by !!')\n",
    "else:\n",
    "    print('The string does not end by !!')\n",
    "print('\"Fire\" in the string', s.count('fire'))\n",
    "print('Lower string:', s.lower())\n",
    "print('Upper string:', s.upper())\n",
    "print('Every word form capital letter:', s.title())\n"
   ]
  },
  {
   "cell_type": "markdown",
   "metadata": {},
   "source": [
    "### 5. "
   ]
  },
  {
   "cell_type": "code",
   "execution_count": 103,
   "metadata": {},
   "outputs": [
    {
     "name": "stdout",
     "output_type": "stream",
     "text": [
      "Input the string !Hello\n",
      "The string starts from smth else\n"
     ]
    }
   ],
   "source": [
    "s = input('Input the string ')\n",
    "if s[0].isalpha() == True:\n",
    "    print('The string starts from the letter')\n",
    "elif s[0].isdigit() == True:\n",
    "    print('The string starts from the digit')\n",
    "elif s[0] == ' ':\n",
    "    print('The string starts from the gap')\n",
    "else:\n",
    "    print('The string starts from smth else')"
   ]
  },
  {
   "cell_type": "markdown",
   "metadata": {},
   "source": [
    "### 6. "
   ]
  },
  {
   "cell_type": "code",
   "execution_count": 109,
   "metadata": {},
   "outputs": [],
   "source": [
    "string_1 = 'Hello'\n",
    "list_1 = list(string_1)\n",
    "set_1 = set(string_1)"
   ]
  },
  {
   "cell_type": "code",
   "execution_count": 110,
   "metadata": {},
   "outputs": [],
   "source": [
    "list_2 = ['Hello', 'apple']\n",
    "string_2 = str(list_2)\n",
    "set_2 = set(list_2)"
   ]
  },
  {
   "cell_type": "code",
   "execution_count": 113,
   "metadata": {},
   "outputs": [],
   "source": [
    "set_2 = {1,2,4,5,'apple'}\n",
    "string_3 = str(set_2)\n",
    "list_3 = list(set_2)"
   ]
  },
  {
   "cell_type": "markdown",
   "metadata": {},
   "source": [
    "### 7. "
   ]
  },
  {
   "cell_type": "code",
   "execution_count": 124,
   "metadata": {},
   "outputs": [
    {
     "name": "stdout",
     "output_type": "stream",
     "text": [
      "acataga\n",
      "acataga\n",
      "acataga\n"
     ]
    }
   ],
   "source": [
    "string = 'agataca'\n",
    "print(string[::-1])\n",
    "print(''.join(reversed(string)))\n",
    "\n",
    "chars = list(string)\n",
    "for i in range(len(string) // 2):\n",
    "    tmp = chars[i]\n",
    "    chars[i] = chars[len(string) - i - 1]\n",
    "    chars[len(string) - i - 1] = tmp\n",
    "print(''.join(chars))"
   ]
  },
  {
   "cell_type": "markdown",
   "metadata": {},
   "source": [
    "### 8. "
   ]
  },
  {
   "cell_type": "code",
   "execution_count": 130,
   "metadata": {},
   "outputs": [
    {
     "name": "stdout",
     "output_type": "stream",
     "text": [
      "accgtcagt\n"
     ]
    }
   ],
   "source": [
    "def reverse_compl(dna):\n",
    "    dictionary = {'a':'t', 't':'a', 'c':'g', 'g':'c'}\n",
    "    compl = ''\n",
    "    for elem in dna:\n",
    "        compl += dictionary.get(elem)\n",
    "    return compl[::-1]\n",
    "\n",
    "dna = 'actgacggt'\n",
    "print(reverse_compl(dna))"
   ]
  },
  {
   "cell_type": "code",
   "execution_count": 131,
   "metadata": {},
   "outputs": [
    {
     "name": "stdout",
     "output_type": "stream",
     "text": [
      "accgtcagt\n"
     ]
    }
   ],
   "source": [
    "dna_rev = dna[::-1]\n",
    "dictionary = {'a':'t', 't':'a', 'c':'g', 'g':'c'}\n",
    "compl = ''\n",
    "for elem in dna_rev:\n",
    "    compl += dictionary.get(elem)\n",
    "print(compl)"
   ]
  },
  {
   "cell_type": "code",
   "execution_count": null,
   "metadata": {},
   "outputs": [],
   "source": []
  }
 ],
 "metadata": {
  "kernelspec": {
   "display_name": "Python 3",
   "language": "python",
   "name": "python3"
  },
  "language_info": {
   "codemirror_mode": {
    "name": "ipython",
    "version": 3
   },
   "file_extension": ".py",
   "mimetype": "text/x-python",
   "name": "python",
   "nbconvert_exporter": "python",
   "pygments_lexer": "ipython3",
   "version": "3.6.5"
  }
 },
 "nbformat": 4,
 "nbformat_minor": 2
}
