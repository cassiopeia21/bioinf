{
 "cells": [
  {
   "cell_type": "markdown",
   "metadata": {},
   "source": [
    "#### 1. "
   ]
  },
  {
   "cell_type": "code",
   "execution_count": 2,
   "metadata": {},
   "outputs": [],
   "source": [
    "import sqlite3 as sql\n",
    "import csv"
   ]
  },
  {
   "cell_type": "code",
   "execution_count": 2,
   "metadata": {},
   "outputs": [],
   "source": [
    "connection = sql.connect('database.db')"
   ]
  },
  {
   "cell_type": "code",
   "execution_count": 3,
   "metadata": {},
   "outputs": [
    {
     "data": {
      "text/plain": [
       "<sqlite3.Cursor at 0x103ad02d0>"
      ]
     },
     "execution_count": 3,
     "metadata": {},
     "output_type": "execute_result"
    }
   ],
   "source": [
    "connection.execute('''CREATE TABLE IF NOT EXISTS first (\n",
    "                                                        id INTEGER PRIMARY KEY,\n",
    "                                                        first_name TEXT,\n",
    "                                                        last_name TEXT,\n",
    "                                                        sex TEXT,\n",
    "                                                        age TEXT,\n",
    "                                                        profession TEXT\n",
    "                                                        )''')"
   ]
  },
  {
   "cell_type": "code",
   "execution_count": 4,
   "metadata": {},
   "outputs": [],
   "source": [
    "people = [('8312', 'Luke', 'Skywalker', 'male', '65', 'jedi'),\n",
    "          ('5821', 'Leia', 'Organa', 'female', '55', 'general'),\n",
    "          ('8483', 'Han', 'Solo', None, None, None)]"
   ]
  },
  {
   "cell_type": "code",
   "execution_count": 5,
   "metadata": {},
   "outputs": [],
   "source": [
    "query = ''' INSERT INTO first VALUES (?, ?, ?, ?, ?, ?)'''"
   ]
  },
  {
   "cell_type": "code",
   "execution_count": 6,
   "metadata": {},
   "outputs": [
    {
     "data": {
      "text/plain": [
       "<sqlite3.Cursor at 0x103ad05e0>"
      ]
     },
     "execution_count": 6,
     "metadata": {},
     "output_type": "execute_result"
    }
   ],
   "source": [
    "connection.executemany(query, people)"
   ]
  },
  {
   "cell_type": "code",
   "execution_count": 7,
   "metadata": {},
   "outputs": [],
   "source": [
    "connection.commit()"
   ]
  },
  {
   "cell_type": "code",
   "execution_count": 8,
   "metadata": {},
   "outputs": [],
   "source": [
    "connection.close()"
   ]
  },
  {
   "cell_type": "code",
   "execution_count": 9,
   "metadata": {},
   "outputs": [],
   "source": [
    "connection = sql.connect('database.db')"
   ]
  },
  {
   "cell_type": "code",
   "execution_count": 10,
   "metadata": {},
   "outputs": [],
   "source": [
    "sql = \"\"\"\n",
    "UPDATE first \n",
    "SET sex = 'male' \n",
    "WHERE last_name = 'Solo'\n",
    "\"\"\"\n",
    "connection.execute(sql)\n",
    "connection.commit()"
   ]
  },
  {
   "cell_type": "code",
   "execution_count": 12,
   "metadata": {},
   "outputs": [],
   "source": [
    "sql1 = \"\"\"\n",
    "DELETE\n",
    "FROM first \n",
    "WHERE last_name = 'Organa'\n",
    "\"\"\"\n",
    "connection.execute(sql1)\n",
    "connection.commit()"
   ]
  },
  {
   "cell_type": "code",
   "execution_count": 13,
   "metadata": {},
   "outputs": [],
   "source": [
    "connection.execute('''CREATE TABLE IF NOT EXISTS second (\n",
    "                                                        id INTEGER PRIMARY KEY,\n",
    "                                                        name TEXT REFERENCES first(first_name) ON UPDATE CASCADE\n",
    "                                                        FOREIGN KEY (id)\n",
    "                                                            REFERENCES first (id)\n",
    "                                                        )''')\n",
    "connection.commit()\n",
    "connection.close()"
   ]
  },
  {
   "cell_type": "markdown",
   "metadata": {},
   "source": [
    "#### 2. "
   ]
  },
  {
   "cell_type": "code",
   "execution_count": 15,
   "metadata": {},
   "outputs": [],
   "source": [
    "connection1 = sql.connect('clinicaltrials.db')"
   ]
  },
  {
   "cell_type": "code",
   "execution_count": 18,
   "metadata": {},
   "outputs": [
    {
     "data": {
      "text/plain": [
       "<sqlite3.Cursor at 0x1060216c0>"
      ]
     },
     "execution_count": 18,
     "metadata": {},
     "output_type": "execute_result"
    }
   ],
   "source": [
    "connection1.execute('''CREATE TABLE IF NOT EXISTS first(\n",
    "                                                    rank INTEGER PRIMARY KEY,\n",
    "                                                    title TEXT,\n",
    "                                                    status TEXT,\n",
    "                                                    results TEXT,\n",
    "                                                    conditions TEXT,\n",
    "                                                    interventions TEXT,\n",
    "                                                    locations TEXT,\n",
    "                                                    url TEXT\n",
    "                                                    )''' )"
   ]
  },
  {
   "cell_type": "code",
   "execution_count": 25,
   "metadata": {},
   "outputs": [],
   "source": [
    "with open('/Users/olgamazur/Downloads/SearchResults.csv') as csvfile:\n",
    "    myCSVReader = csv.DictReader(csvfile)\n",
    "    to_db = [(i['Rank'], i['Title'], i['Status'], i['Study Results'], \\\n",
    "             i['Conditions'], i['Interventions'], i['Locations'], i['URL']) for i in myCSVReader]"
   ]
  },
  {
   "cell_type": "code",
   "execution_count": 28,
   "metadata": {},
   "outputs": [],
   "source": [
    "connection1.executemany(\"INSERT INTO first (rank, title, status, results, conditions, interventions, locations, url) VALUES (?, ?, ?, ?, ?, ?, ?, ?);\", to_db)\n",
    "connection1.commit()"
   ]
  },
  {
   "cell_type": "code",
   "execution_count": 3,
   "metadata": {},
   "outputs": [],
   "source": [
    "connection2 = sql.connect('metadata.db')"
   ]
  },
  {
   "cell_type": "code",
   "execution_count": 26,
   "metadata": {},
   "outputs": [
    {
     "data": {
      "text/plain": [
       "<sqlite3.Cursor at 0x109611c70>"
      ]
     },
     "execution_count": 26,
     "metadata": {},
     "output_type": "execute_result"
    }
   ],
   "source": [
    "connection2.execute('''CREATE TABLE IF NOT EXISTS metadata(\n",
    "                                                    rank INTEGER PRIMARY KEY,\n",
    "                                                    dna_chip_id TEXT,\n",
    "                                                    breed TEXT,\n",
    "                                                    sex TEXT\n",
    "                                                    )''' )"
   ]
  },
  {
   "cell_type": "code",
   "execution_count": 24,
   "metadata": {},
   "outputs": [],
   "source": [
    "with open('/Users/olgamazur/Downloads/metadata.csv') as csvfile:\n",
    "    myCSVReader = csv.DictReader(csvfile, delimiter=';')\n",
    "    for i in myCSVReader:\n",
    "        to_db = [(i['rank'], i['dna_chip_id'], i['breed'], i['sex']) for i in myCSVReader]"
   ]
  },
  {
   "cell_type": "code",
   "execution_count": 29,
   "metadata": {},
   "outputs": [],
   "source": [
    "connection2.executemany(\"INSERT INTO metadata(rank, dna_chip_id, breed, sex) VALUES (?, ?, ?, ?);\", to_db)\n",
    "connection2.commit()"
   ]
  }
 ],
 "metadata": {
  "kernelspec": {
   "display_name": "Python 3",
   "language": "python",
   "name": "python3"
  },
  "language_info": {
   "codemirror_mode": {
    "name": "ipython",
    "version": 3
   },
   "file_extension": ".py",
   "mimetype": "text/x-python",
   "name": "python",
   "nbconvert_exporter": "python",
   "pygments_lexer": "ipython3",
   "version": "3.7.4"
  }
 },
 "nbformat": 4,
 "nbformat_minor": 2
}
