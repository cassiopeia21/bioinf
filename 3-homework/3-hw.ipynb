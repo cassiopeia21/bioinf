{
 "cells": [
  {
   "cell_type": "markdown",
   "metadata": {},
   "source": [
    "### 1."
   ]
  },
  {
   "cell_type": "code",
   "execution_count": 30,
   "metadata": {},
   "outputs": [
    {
     "name": "stdout",
     "output_type": "stream",
     "text": [
      "5.0\n"
     ]
    }
   ],
   "source": [
    "a = 5 \n",
    "print(float(a))"
   ]
  },
  {
   "cell_type": "code",
   "execution_count": 15,
   "metadata": {},
   "outputs": [
    {
     "name": "stdout",
     "output_type": "stream",
     "text": [
      "2.5\n"
     ]
    }
   ],
   "source": [
    "a = 5\n",
    "print(a / 2)"
   ]
  },
  {
   "cell_type": "code",
   "execution_count": 4,
   "metadata": {},
   "outputs": [
    {
     "name": "stdout",
     "output_type": "stream",
     "text": [
      "5.1\n"
     ]
    }
   ],
   "source": [
    "a = 5\n",
    "print(a + 0.1)"
   ]
  },
  {
   "cell_type": "code",
   "execution_count": 5,
   "metadata": {},
   "outputs": [
    {
     "name": "stdout",
     "output_type": "stream",
     "text": [
      "2.8284271247461903\n"
     ]
    }
   ],
   "source": [
    "a = 8 \n",
    "print(a**0.5)"
   ]
  },
  {
   "cell_type": "code",
   "execution_count": 6,
   "metadata": {},
   "outputs": [
    {
     "name": "stdout",
     "output_type": "stream",
     "text": [
      "2.8\n"
     ]
    }
   ],
   "source": [
    "a = 3 \n",
    "print(a-0.2)"
   ]
  },
  {
   "cell_type": "code",
   "execution_count": 13,
   "metadata": {},
   "outputs": [
    {
     "name": "stdout",
     "output_type": "stream",
     "text": [
      "4\n"
     ]
    }
   ],
   "source": [
    "a = 4.5\n",
    "print(int(a))"
   ]
  },
  {
   "cell_type": "code",
   "execution_count": 9,
   "metadata": {},
   "outputs": [
    {
     "name": "stdout",
     "output_type": "stream",
     "text": [
      "2\n"
     ]
    }
   ],
   "source": [
    "a = 2.1 \n",
    "print(round(a))"
   ]
  },
  {
   "cell_type": "code",
   "execution_count": 21,
   "metadata": {},
   "outputs": [
    {
     "name": "stdout",
     "output_type": "stream",
     "text": [
      "81\n"
     ]
    }
   ],
   "source": [
    "a = 8.1 \n",
    "print(int(8.1*10))"
   ]
  },
  {
   "cell_type": "code",
   "execution_count": 20,
   "metadata": {},
   "outputs": [
    {
     "name": "stdout",
     "output_type": "stream",
     "text": [
      "4\n"
     ]
    }
   ],
   "source": [
    "a = 4.5\n",
    "print(int(a - 0.5))"
   ]
  },
  {
   "cell_type": "code",
   "execution_count": 22,
   "metadata": {},
   "outputs": [
    {
     "name": "stdout",
     "output_type": "stream",
     "text": [
      "30\n"
     ]
    }
   ],
   "source": [
    "a = 6.1\n",
    "print(int(a * 5))"
   ]
  },
  {
   "cell_type": "code",
   "execution_count": 27,
   "metadata": {},
   "outputs": [
    {
     "name": "stdout",
     "output_type": "stream",
     "text": [
      "<class 'str'> 5\n",
      "<class 'int'> 5\n"
     ]
    }
   ],
   "source": [
    "a = 5\n",
    "s = str(a)\n",
    "print(type(s), s)\n",
    "a1 = int(s)\n",
    "print(type(a1), a1)"
   ]
  },
  {
   "cell_type": "code",
   "execution_count": 29,
   "metadata": {},
   "outputs": [
    {
     "name": "stdout",
     "output_type": "stream",
     "text": [
      "<class 'str'> 2.0\n",
      "<class 'float'> 2.0\n"
     ]
    }
   ],
   "source": [
    "a = 2.0\n",
    "s = str(a)\n",
    "print(type(s), s)\n",
    "a1 = float(s)\n",
    "print(type(a1), a1)"
   ]
  },
  {
   "cell_type": "markdown",
   "metadata": {},
   "source": [
    "### 2. "
   ]
  },
  {
   "cell_type": "code",
   "execution_count": 42,
   "metadata": {},
   "outputs": [
    {
     "name": "stdout",
     "output_type": "stream",
     "text": [
      "3\n",
      "28.274333882308138\n"
     ]
    }
   ],
   "source": [
    "# Площадь круга, если дан радиус\n",
    "import math\n",
    "r = int(input())\n",
    "print(math.pi*(r**2))"
   ]
  },
  {
   "cell_type": "code",
   "execution_count": 124,
   "metadata": {},
   "outputs": [
    {
     "name": "stdout",
     "output_type": "stream",
     "text": [
      "4\n",
      "50.26548245743669\n"
     ]
    }
   ],
   "source": [
    "r = int(input())\n",
    "print(math.pi*(r**2))"
   ]
  },
  {
   "cell_type": "code",
   "execution_count": 125,
   "metadata": {},
   "outputs": [
    {
     "name": "stdout",
     "output_type": "stream",
     "text": [
      "5\n",
      "78.53981633974483\n"
     ]
    }
   ],
   "source": [
    "r = int(input())\n",
    "print(math.pi*(r**2))"
   ]
  },
  {
   "cell_type": "code",
   "execution_count": 49,
   "metadata": {},
   "outputs": [
    {
     "name": "stdout",
     "output_type": "stream",
     "text": [
      "15\n",
      "30\n",
      "155117520\n"
     ]
    }
   ],
   "source": [
    "# Формула для числа сочетаний С m по n \n",
    "m = int(input())\n",
    "n = int(input())\n",
    "print(int(math.factorial(n) / ((math.factorial(n-m)*math.factorial(m)))))"
   ]
  },
  {
   "cell_type": "code",
   "execution_count": 126,
   "metadata": {},
   "outputs": [
    {
     "name": "stdout",
     "output_type": "stream",
     "text": [
      "10\n",
      "40\n",
      "847660528\n"
     ]
    }
   ],
   "source": [
    "# Формула для числа сочетаний С m по n \n",
    "m = int(input())\n",
    "n = int(input())\n",
    "print(int(math.factorial(n) / ((math.factorial(n-m)*math.factorial(m)))))"
   ]
  },
  {
   "cell_type": "code",
   "execution_count": 127,
   "metadata": {},
   "outputs": [
    {
     "name": "stdout",
     "output_type": "stream",
     "text": [
      "4\n",
      "30\n",
      "27405\n"
     ]
    }
   ],
   "source": [
    "# Формула для числа сочетаний С m по n \n",
    "m = int(input())\n",
    "n = int(input())\n",
    "print(int(math.factorial(n) / ((math.factorial(n-m)*math.factorial(m)))))"
   ]
  },
  {
   "cell_type": "code",
   "execution_count": 50,
   "metadata": {},
   "outputs": [
    {
     "name": "stdout",
     "output_type": "stream",
     "text": [
      "4\n",
      "268.082573106329\n"
     ]
    }
   ],
   "source": [
    "# Объем шара\n",
    "r = int(input())\n",
    "print((4/3)*math.pi*(r**3))"
   ]
  },
  {
   "cell_type": "code",
   "execution_count": 128,
   "metadata": {},
   "outputs": [
    {
     "name": "stdout",
     "output_type": "stream",
     "text": [
      "5\n",
      "523.5987755982989\n"
     ]
    }
   ],
   "source": [
    "# Объем шара\n",
    "r = int(input())\n",
    "print((4/3)*math.pi*(r**3))"
   ]
  },
  {
   "cell_type": "code",
   "execution_count": 129,
   "metadata": {},
   "outputs": [
    {
     "name": "stdout",
     "output_type": "stream",
     "text": [
      "6\n",
      "904.7786842338603\n"
     ]
    }
   ],
   "source": [
    "# Объем шара\n",
    "r = int(input())\n",
    "print((4/3)*math.pi*(r**3))"
   ]
  },
  {
   "cell_type": "markdown",
   "metadata": {},
   "source": [
    "### 3."
   ]
  },
  {
   "cell_type": "code",
   "execution_count": 95,
   "metadata": {},
   "outputs": [
    {
     "name": "stdout",
     "output_type": "stream",
     "text": [
      "a\tnot a\n",
      "True\tFalse\n",
      "\n",
      "b\tnot b\n",
      "False\tTrue\n"
     ]
    }
   ],
   "source": [
    "a = True\n",
    "b = False\n",
    "\n",
    "print('a', 'not a', sep ='\\t')\n",
    "print(bool(a), not a, sep ='\\t')\n",
    "print()\n",
    "print('b', 'not b', sep ='\\t')\n",
    "print(bool(b), not b, sep ='\\t')"
   ]
  },
  {
   "cell_type": "code",
   "execution_count": 117,
   "metadata": {},
   "outputs": [
    {
     "name": "stdout",
     "output_type": "stream",
     "text": [
      "a\tb\ta or b\n",
      "True\tTrue\tTrue\n",
      "True\tFalse\tTrue\n",
      "False\tTrue\tTrue\n",
      "False\tFalse\tFalse\n"
     ]
    }
   ],
   "source": [
    "a = True \n",
    "b = True \n",
    "print('a', 'b' , 'a or b', sep ='\\t')\n",
    "print(a, b, a or b, sep ='\\t' )\n",
    "print(a, not b, a or (not b), sep ='\\t')\n",
    "print(not a, b, (not a) or b, sep ='\\t')\n",
    "print(not a, not b, (not a) or (not b), sep = '\\t')"
   ]
  },
  {
   "cell_type": "code",
   "execution_count": 118,
   "metadata": {},
   "outputs": [
    {
     "name": "stdout",
     "output_type": "stream",
     "text": [
      "a\tb\ta ^ b\n",
      "True\tTrue\tFalse\n",
      "True\tFalse\tTrue\n",
      "False\tTrue\tTrue\n",
      "False\tFalse\tFalse\n"
     ]
    }
   ],
   "source": [
    "a = True \n",
    "b = True\n",
    "print('a', 'b' , 'a ^ b', sep ='\\t')\n",
    "print(a, b, a ^ b, sep ='\\t' )\n",
    "print(a, not b, a ^ (not b), sep ='\\t')\n",
    "print(not a, b, (not a) ^ b, sep ='\\t')\n",
    "print(not a, not b, (not a) ^ (not b), sep = '\\t')"
   ]
  },
  {
   "cell_type": "code",
   "execution_count": 121,
   "metadata": {},
   "outputs": [
    {
     "name": "stdout",
     "output_type": "stream",
     "text": [
      "a\tb\ta NOR b\n",
      "True\tTrue\tFalse\n",
      "True\tFalse\tFalse\n",
      "False\tTrue\tFalse\n",
      "False\tFalse\tTrue\n"
     ]
    }
   ],
   "source": [
    "a = True \n",
    "b = True\n",
    "print('a', 'b' , 'a NOR b', sep ='\\t')\n",
    "print(a, b, not(a or b), sep ='\\t' )\n",
    "print(a, not b, not(a or (not b)), sep ='\\t')\n",
    "print(not a, b, not((not a) or b), sep ='\\t')\n",
    "print(not a, not b, not((not a) or (not b)), sep = '\\t')"
   ]
  },
  {
   "cell_type": "code",
   "execution_count": 122,
   "metadata": {},
   "outputs": [
    {
     "name": "stdout",
     "output_type": "stream",
     "text": [
      "a\tb\ta and b\n",
      "True\tTrue\tTrue\n",
      "True\tFalse\tFalse\n",
      "False\tTrue\tFalse\n",
      "False\tFalse\tFalse\n"
     ]
    }
   ],
   "source": [
    "a = True \n",
    "b = True\n",
    "print('a', 'b' , 'a and b', sep ='\\t')\n",
    "print(a, b, a and b, sep ='\\t' )\n",
    "print(a, not b, a and (not b), sep ='\\t')\n",
    "print(not a, b, (not a) and b, sep ='\\t')\n",
    "print(not a, not b, (not a) and (not b), sep = '\\t')"
   ]
  },
  {
   "cell_type": "code",
   "execution_count": 123,
   "metadata": {},
   "outputs": [
    {
     "name": "stdout",
     "output_type": "stream",
     "text": [
      "a\tb\ta NAND b\n",
      "True\tTrue\tFalse\n",
      "True\tFalse\tTrue\n",
      "False\tTrue\tTrue\n",
      "False\tFalse\tTrue\n"
     ]
    }
   ],
   "source": [
    "a = True \n",
    "b = True\n",
    "print('a', 'b' , 'a NAND b', sep ='\\t')\n",
    "print(a, b, not(a and b), sep ='\\t' )\n",
    "print(a, not b, not(a and (not b)), sep ='\\t')\n",
    "print(not a, b, not((not a) and b), sep ='\\t')\n",
    "print(not a, not b, not((not a) and (not b)), sep = '\\t')"
   ]
  },
  {
   "cell_type": "markdown",
   "metadata": {},
   "source": [
    "### 4."
   ]
  },
  {
   "cell_type": "code",
   "execution_count": 141,
   "metadata": {},
   "outputs": [
    {
     "name": "stdout",
     "output_type": "stream",
     "text": [
      "225\n",
      "fizzbuzz\n"
     ]
    }
   ],
   "source": [
    "a = int(input())\n",
    "if a % 15 == 0:\n",
    "    print('fizzbuzz')\n",
    "elif a % 3 == 0:\n",
    "    print('fizz')\n",
    "elif a % 5 == 0:\n",
    "    print('buzz')\n",
    "else:\n",
    "    print(a)"
   ]
  }
 ],
 "metadata": {
  "kernelspec": {
   "display_name": "Python 3",
   "language": "python",
   "name": "python3"
  },
  "language_info": {
   "codemirror_mode": {
    "name": "ipython",
    "version": 3
   },
   "file_extension": ".py",
   "mimetype": "text/x-python",
   "name": "python",
   "nbconvert_exporter": "python",
   "pygments_lexer": "ipython3",
   "version": "3.6.4"
  }
 },
 "nbformat": 4,
 "nbformat_minor": 2
}
