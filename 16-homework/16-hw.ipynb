{
 "cells": [
  {
   "cell_type": "code",
   "execution_count": 3,
   "metadata": {},
   "outputs": [],
   "source": [
    "import pathlib\n",
    "import os\n",
    "import shutil"
   ]
  },
  {
   "cell_type": "code",
   "execution_count": 5,
   "metadata": {},
   "outputs": [],
   "source": [
    "# Create a folder\n",
    "\n",
    "p = pathlib.Path(\"my_pathlib_folder\")\n",
    "p.mkdir()\n",
    "\n",
    "os.mkdir(\"my_os_folder\")"
   ]
  },
  {
   "cell_type": "code",
   "execution_count": 34,
   "metadata": {},
   "outputs": [
    {
     "data": {
      "text/plain": [
       "'my_pathlib_folder/16-hw.ipynb'"
      ]
     },
     "execution_count": 34,
     "metadata": {},
     "output_type": "execute_result"
    }
   ],
   "source": [
    "# Add a file in folder\n",
    "\n",
    "shutil.move(\"16-hw.ipynb\", \"my_pathlib_folder/\")"
   ]
  },
  {
   "cell_type": "code",
   "execution_count": 40,
   "metadata": {},
   "outputs": [
    {
     "data": {
      "text/plain": [
       "'./ftps.txt'"
      ]
     },
     "execution_count": 40,
     "metadata": {},
     "output_type": "execute_result"
    }
   ],
   "source": [
    "# Extract a file from a folder \n",
    "\n",
    "shutil.move(\"my_pathlib_folder/ftps.txt\", \"./\")"
   ]
  },
  {
   "cell_type": "code",
   "execution_count": 42,
   "metadata": {},
   "outputs": [],
   "source": [
    "# Add a file in folder\n",
    "\n",
    "file = pathlib.Path(\"ftps.txt\")\n",
    "file.replace(p / file)"
   ]
  },
  {
   "cell_type": "code",
   "execution_count": 43,
   "metadata": {},
   "outputs": [],
   "source": [
    "# Extract a file from a folder \n",
    "\n",
    "pathlib.Path(p / file).replace(file)"
   ]
  },
  {
   "cell_type": "code",
   "execution_count": 1,
   "metadata": {},
   "outputs": [],
   "source": [
    "os.mknod('file.txt')\n",
    "pattern = glob.glob(\"file*\")\n",
    "for p in pattern:\n",
    "    shutil.move(p, \"my_os_folder/\")"
   ]
  },
  {
   "cell_type": "code",
   "execution_count": 6,
   "metadata": {},
   "outputs": [],
   "source": [
    "for i in range(10):\n",
    "    file = pathlib.Path(\"file\" + str(i))\n",
    "    file.touch()\n",
    "pattern = pathlib.Path(\"./\").glob(\"file*\")\n",
    "for p in pattern:\n",
    "    p.replace(folder/p)"
   ]
  },
  {
   "cell_type": "code",
   "execution_count": 11,
   "metadata": {},
   "outputs": [
    {
     "data": {
      "text/plain": [
       "'my_os_folder/shutil_ftps.txt'"
      ]
     },
     "execution_count": 11,
     "metadata": {},
     "output_type": "execute_result"
    }
   ],
   "source": [
    "shutil.move(\"my_os_folder/ftps.txt\", \"my_os_folder/shutil_ftps.txt\")"
   ]
  },
  {
   "cell_type": "code",
   "execution_count": 8,
   "metadata": {},
   "outputs": [],
   "source": [
    "rename_file = pathlib.Path(\"my_pathlib_folder/ftps.txt\")\n",
    "rename_file.rename(rename_file.with_name(\"pathlib_ftps.txt\"))"
   ]
  },
  {
   "cell_type": "code",
   "execution_count": 12,
   "metadata": {},
   "outputs": [
    {
     "name": "stdout",
     "output_type": "stream",
     "text": [
      ".DS_Store\n",
      "shutil_ftps.txt\n"
     ]
    }
   ],
   "source": [
    "for file in os.listdir(\"my_os_folder\"):\n",
    "    print(file)"
   ]
  },
  {
   "cell_type": "code",
   "execution_count": 13,
   "metadata": {},
   "outputs": [
    {
     "name": "stdout",
     "output_type": "stream",
     "text": [
      "<DirEntry '.DS_Store'>\n",
      "<DirEntry 'shutil_ftps.txt'>\n"
     ]
    }
   ],
   "source": [
    "for file in os.scandir(\"my_os_folder\"):\n",
    "    print(file)"
   ]
  },
  {
   "cell_type": "code",
   "execution_count": 15,
   "metadata": {},
   "outputs": [],
   "source": [
    "shutil.rmtree(\"my_os_folder/\")"
   ]
  }
 ],
 "metadata": {
  "kernelspec": {
   "display_name": "Python 3",
   "language": "python",
   "name": "python3"
  },
  "language_info": {
   "codemirror_mode": {
    "name": "ipython",
    "version": 3
   },
   "file_extension": ".py",
   "mimetype": "text/x-python",
   "name": "python",
   "nbconvert_exporter": "python",
   "pygments_lexer": "ipython3",
   "version": "3.7.4"
  }
 },
 "nbformat": 4,
 "nbformat_minor": 2
}
