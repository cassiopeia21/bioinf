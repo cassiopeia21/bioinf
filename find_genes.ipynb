{
 "cells": [
  {
   "cell_type": "code",
   "execution_count": 1,
   "metadata": {},
   "outputs": [],
   "source": [
    "from Bio.Seq import Seq\n",
    "from Bio.Alphabet import generic_dna"
   ]
  },
  {
   "cell_type": "code",
   "execution_count": 2,
   "metadata": {},
   "outputs": [],
   "source": [
    "def find_start(dna):\n",
    "    '''\n",
    "    Input: Sequence of DNA \n",
    "    Return: Positions of start codon \n",
    "    \n",
    "    Function finds positions of start codons\n",
    "    '''\n",
    "    start_position = []\n",
    "    for i in range(len(dna)):\n",
    "        if dna[i:i+3] == 'ATG':\n",
    "            start_position.append(i)\n",
    "    return(start_position)"
   ]
  },
  {
   "cell_type": "code",
   "execution_count": 3,
   "metadata": {},
   "outputs": [],
   "source": [
    "def find_stop(dna):\n",
    "    '''\n",
    "    Input: Sequence of DNA \n",
    "    Return: Positions of stop codon\n",
    "    \n",
    "    Function finds positions of stop codons\n",
    "    '''\n",
    "    stop_position = []\n",
    "    for i in range(len(dna)):\n",
    "        if dna[i:i+3] == 'TAA' or dna[i:i+3] == 'TAG' or dna[i:i+3] == 'TGA':\n",
    "            stop_position.append(i)\n",
    "    return(stop_position)"
   ]
  },
  {
   "cell_type": "code",
   "execution_count": 4,
   "metadata": {},
   "outputs": [],
   "source": [
    "def find_compl_dna(dna):\n",
    "    '''\n",
    "    Input: Sequence of DNA \n",
    "    Return: Genes which were found in reverse-complement sequense of DNA\n",
    "    \n",
    "    Function finds genes in reverse-complement sequense of DNA \n",
    "    '''\n",
    "    dna = Seq(dna, generic_dna)\n",
    "    dna = dna.reverse_complement()\n",
    "    dna = str(dna)\n",
    "    start = find_start(dna)\n",
    "    stop = find_stop(dna)\n",
    "    rev_gene = []\n",
    "    for start_elem in start:\n",
    "        for stop_elem in stop:\n",
    "            if (stop_elem > start_elem) and ((stop_elem - start_elem + 3) % 3 ==0) and ((stop_elem + 3 - start_elem) / 3 > 4):\n",
    "                rev_gene.append(dna[start_elem:stop_elem+3])\n",
    "    return(rev_gene)"
   ]
  },
  {
   "cell_type": "code",
   "execution_count": 5,
   "metadata": {},
   "outputs": [],
   "source": [
    "def find_gene(dna):\n",
    "    '''\n",
    "    Input: Sequence of DNA \n",
    "    Return: Genes which were found in sequense of DNA\n",
    "    \n",
    "    Function finds genes in sequense of DNA \n",
    "    '''\n",
    "    start = find_start(dna)\n",
    "    stop = find_stop(dna)\n",
    "    gene = []\n",
    "    for start_elem in start:\n",
    "        for stop_elem in stop:\n",
    "            if (stop_elem > start_elem) and ((stop_elem - start_elem + 3) % 3 ==0) and ((stop_elem + 3 - start_elem) / 3 > 4):\n",
    "                gene.append(dna[start_elem:stop_elem+3])\n",
    "    return(gene + find_compl_dna(dna))"
   ]
  },
  {
   "cell_type": "code",
   "execution_count": 8,
   "metadata": {},
   "outputs": [
    {
     "name": "stdout",
     "output_type": "stream",
     "text": [
      "Enter the DNA sequence TTAAAAAAAAAAAAACAT\n",
      "DNA, finded genes: ['ATGTTTTTTTTTTTTTAA']\n"
     ]
    }
   ],
   "source": [
    "dna = str(input('Enter the DNA sequence '))\n",
    "# Remove the case-sensitive\n",
    "dna = dna.upper()\n",
    "print('DNA, finded genes:',find_gene(dna))"
   ]
  }
 ],
 "metadata": {
  "kernelspec": {
   "display_name": "Python 3",
   "language": "python",
   "name": "python3"
  },
  "language_info": {
   "codemirror_mode": {
    "name": "ipython",
    "version": 3
   },
   "file_extension": ".py",
   "mimetype": "text/x-python",
   "name": "python",
   "nbconvert_exporter": "python",
   "pygments_lexer": "ipython3",
   "version": "3.7.4"
  }
 },
 "nbformat": 4,
 "nbformat_minor": 2
}
