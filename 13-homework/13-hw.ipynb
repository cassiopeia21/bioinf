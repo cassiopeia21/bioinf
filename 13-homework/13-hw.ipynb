{
 "cells": [
  {
   "cell_type": "markdown",
   "metadata": {},
   "source": [
    "#### 1."
   ]
  },
  {
   "cell_type": "code",
   "execution_count": 1,
   "metadata": {},
   "outputs": [],
   "source": [
    "class Hero():\n",
    "    \n",
    "    \"\"\" Class to create Hero for our game \"\"\"\n",
    "    \n",
    "    def __init__(self, name, level, race):\n",
    "        \n",
    "        \"\"\" Initiate our hero \"\"\"\n",
    "        \n",
    "        self.name = name \n",
    "        self.level = level\n",
    "        self.race = race\n",
    "        self.health = 100\n",
    "        \n",
    "    def show_hero(self):\n",
    "        \n",
    "        \"\"\" Print parameters of Hero \"\"\"\n",
    "        \n",
    "        description = (\"Name of hero is \" + self.name + \", level is \" + str(self.level) + \"!\")\n",
    "        print(description)\n",
    "    \n",
    "    def level_up(self):\n",
    "        \n",
    "        \"\"\" Upgrade level of hero \"\"\"\n",
    "        \n",
    "        self.level += 1"
   ]
  },
  {
   "cell_type": "code",
   "execution_count": 2,
   "metadata": {},
   "outputs": [
    {
     "name": "stdout",
     "output_type": "stream",
     "text": [
      "Name of hero is Jake, level is 1!\n"
     ]
    }
   ],
   "source": [
    "my_hero_1 = Hero(\"Jake\", 1, \"Orc\")\n",
    "\n",
    "my_hero_1.show_hero()"
   ]
  },
  {
   "cell_type": "code",
   "execution_count": 3,
   "metadata": {},
   "outputs": [
    {
     "name": "stdout",
     "output_type": "stream",
     "text": [
      "Name of hero is Jake, level is 2!\n"
     ]
    }
   ],
   "source": [
    "my_hero_1.level_up()\n",
    "my_hero_1.show_hero()"
   ]
  },
  {
   "cell_type": "markdown",
   "metadata": {},
   "source": [
    "#### 2. "
   ]
  },
  {
   "cell_type": "code",
   "execution_count": 10,
   "metadata": {},
   "outputs": [],
   "source": [
    "from Bio.Seq import Seq\n",
    "from Bio.Alphabet import IUPAC"
   ]
  },
  {
   "cell_type": "code",
   "execution_count": 37,
   "metadata": {},
   "outputs": [],
   "source": [
    "class RNA():\n",
    "    \n",
    "    \"\"\" Create RNA sequence \"\"\"\n",
    "    \n",
    "    def __init__(self, rna):\n",
    "        \n",
    "        \"\"\" Create RNA sequence \"\"\"\n",
    "        \n",
    "        self.rna = rna\n",
    "    \n",
    "    def translation(self):\n",
    "        \n",
    "        \"\"\" Translate RNA into protein \"\"\"\n",
    "        \n",
    "        messenger_rna = Seq(self.rna, IUPAC.unambiguous_rna)\n",
    "        print(messenger_rna.translate())\n",
    "    \n",
    "    def return_transpition(self):\n",
    "        \n",
    "        \"\"\" Receive DNA sequence by back-transcription \"\"\"\n",
    "        \n",
    "        messenger_rna = Seq(self.rna, IUPAC.unambiguous_rna)\n",
    "        print(messenger_rna.back_transcribe())\n",
    "    \n",
    "    \n",
    "seq = RNA('AUGGCCAUUGUAAUGGGCCGCUGAAAGGGUGCCCGAUAG')"
   ]
  },
  {
   "cell_type": "code",
   "execution_count": 38,
   "metadata": {},
   "outputs": [
    {
     "name": "stdout",
     "output_type": "stream",
     "text": [
      "MAIVMGR*KGAR*\n"
     ]
    }
   ],
   "source": [
    "RNA.translation(seq)"
   ]
  },
  {
   "cell_type": "code",
   "execution_count": 39,
   "metadata": {},
   "outputs": [
    {
     "name": "stdout",
     "output_type": "stream",
     "text": [
      "ATGGCCATTGTAATGGGCCGCTGAAAGGGTGCCCGATAG\n"
     ]
    }
   ],
   "source": [
    "RNA.return_transpition(seq)"
   ]
  },
  {
   "cell_type": "markdown",
   "metadata": {},
   "source": [
    "#### 3."
   ]
  },
  {
   "cell_type": "code",
   "execution_count": 80,
   "metadata": {},
   "outputs": [],
   "source": [
    "class positive(set):\n",
    "    \n",
    "    def __init__(self, *numbers):\n",
    "        s = []\n",
    "        for elem in numbers:\n",
    "            if elem > 0:\n",
    "                s.append(elem)\n",
    "        super().__init__(s)\n",
    "    \n",
    "    def add(self, elem):\n",
    "        if elem > 0:\n",
    "            super().add(elem)"
   ]
  },
  {
   "cell_type": "code",
   "execution_count": 81,
   "metadata": {},
   "outputs": [
    {
     "data": {
      "text/plain": [
       "{1, 3, 4}"
      ]
     },
     "execution_count": 81,
     "metadata": {},
     "output_type": "execute_result"
    }
   ],
   "source": [
    "xs = positive(1, 3, 4)\n",
    "xs"
   ]
  },
  {
   "cell_type": "code",
   "execution_count": 82,
   "metadata": {},
   "outputs": [
    {
     "data": {
      "text/plain": [
       "{1, 3, 4}"
      ]
     },
     "execution_count": 82,
     "metadata": {},
     "output_type": "execute_result"
    }
   ],
   "source": [
    "xs.add(-5)\n",
    "xs"
   ]
  },
  {
   "cell_type": "markdown",
   "metadata": {},
   "source": [
    "#### 4. "
   ]
  },
  {
   "cell_type": "code",
   "execution_count": 237,
   "metadata": {},
   "outputs": [],
   "source": [
    "from Bio import SeqIO\n",
    "from Bio.SeqUtils import GC\n",
    "import matplotlib.pyplot as plt\n",
    "from collections import defaultdict"
   ]
  },
  {
   "cell_type": "code",
   "execution_count": 278,
   "metadata": {},
   "outputs": [],
   "source": [
    "class Fasta_statistics():\n",
    "    \n",
    "    \"\"\" Class return statistics about input fasta file \"\"\"\n",
    "    \n",
    "    def __init__(self, path):\n",
    "        \n",
    "        self.path = path\n",
    "    \n",
    "    def seq_value(self):\n",
    "        \n",
    "        \"\"\" Return the number of sequences in the fasta file \"\"\"\n",
    "        \n",
    "        kol = 0\n",
    "        for seq_record in SeqIO.parse(self.path, \"fasta\"):\n",
    "            kol += 1  \n",
    "        print('The nubmer of sequences in the fasta file is', kol)\n",
    "    \n",
    "    def histo(self):\n",
    "        \n",
    "        \"\"\" Create a histogram of sequence lengths \"\"\"\n",
    "        \n",
    "        length = []\n",
    "        for seq_record in SeqIO.parse(self.path, \"fasta\"):\n",
    "            length.append(len(seq_record.seq))\n",
    "            \n",
    "        x = range(len(length))\n",
    "        ax = plt.gca()\n",
    "        ax.bar(x, length, align='edge')\n",
    "        plt.show()\n",
    "        \n",
    "    def gc(self):\n",
    "        \n",
    "        \"\"\" Receive a list of GC content for sequences in fasta file \"\"\"\n",
    "        \n",
    "        gc_list = []\n",
    "        for seq_record in SeqIO.parse(self.path, \"fasta\"):\n",
    "            gc_list.append(GC(seq_record.seq))\n",
    "        print(gc_list)\n",
    "        \n",
    "    def histo_k_mer(self, list_k_mer):\n",
    "        \n",
    "        result_dict = defaultdict(list)\n",
    "        for elem in list_k_mer:\n",
    "            result_dict[elem] = 0\n",
    "        \n",
    "        for seq_record in SeqIO.parse(self.path, \"fasta\"):\n",
    "            \n",
    "            for elem in list_k_mer:\n",
    "                \n",
    "                for i in range(len(seq_record.seq)):\n",
    "                    \n",
    "                    if seq_record.seq[i:i+4] == elem:\n",
    "                        result_dict[elem] += 1\n",
    "        \n",
    "        ax = plt.gca()\n",
    "        ax.bar(list_k_mer, result_dict.values())\n",
    "        plt.show()"
   ]
  },
  {
   "cell_type": "code",
   "execution_count": 279,
   "metadata": {},
   "outputs": [],
   "source": [
    "pathway = r'cds.fasta'\n",
    "f = Fasta_statistics(pathway)"
   ]
  },
  {
   "cell_type": "code",
   "execution_count": 231,
   "metadata": {},
   "outputs": [
    {
     "name": "stdout",
     "output_type": "stream",
     "text": [
      "The nubmer of sequences in the fasta file is 94\n"
     ]
    }
   ],
   "source": [
    "f.seq_value()"
   ]
  },
  {
   "cell_type": "code",
   "execution_count": 226,
   "metadata": {},
   "outputs": [
    {
     "data": {
      "image/png": "[encoded data removed]",
      "text/plain": [
       "<Figure size 432x288 with 1 Axes>"
      ]
     },
     "metadata": {
      "needs_background": "light"
     },
     "output_type": "display_data"
    }
   ],
   "source": [
    "f.histo()"
   ]
  },
  {
   "cell_type": "code",
   "execution_count": 235,
   "metadata": {},
   "outputs": [
    {
     "name": "stdout",
     "output_type": "stream",
     "text": [
      "[52.275769745649264, 50.83553210202287, 61.35961587060905, 46.00389863547758, 72.56944444444444, 64.62853385930309, 72.56944444444444, 72.56944444444444, 72.56944444444444, 72.56944444444444, 72.56944444444444, 72.56944444444444, 72.56944444444444, 56.0792349726776, 82.09783156833082, 45.65972222222222, 54.12748171368861, 56.14702154626109, 52.450980392156865, 58.95153313550939, 62.049549549549546, 63.27683615819209, 63.24867724867725, 68.73655913978494, 62.73972602739726, 59.04877065699315, 54.675467546754675, 59.75308641975309, 54.93482309124767, 56.94444444444444, 60.68571428571428, 62.25266362252663, 61.17084826762246, 55.663430420711975, 53.78323108384458, 52.6431718061674, 59.50782997762864, 56.68430335097002, 55.09407170749024, 56.12621685129238, 45.982142857142854, 52.303523035230356, 57.2057205720572, 54.12647374062165, 54.33705080545229, 63.55140186915888, 52.65700483091788, 56.770833333333336, 58.40978593272171, 60.370370370370374, 57.38327904451683, 57.70609318996416, 63.568075117370896, 56.814449917898195, 47.80701754385965, 54.423213021939134, 55.968992248062015, 54.54545454545455, 55.35535535535536, 55.08924264351182, 54.00593471810089, 58.79265091863517, 56.04719764011799, 58.97435897435897, 54.60992907801418, 55.7403008709422, 53.863134657836646, 56.75349734684033, 58.36662228140258, 55.96707818930041, 53.983969825553984, 54.00219298245614, 59.437751004016064, 63.28079392877992, 60.927960927960925, 63.31133113311331, 65.3179190751445, 54.08299866131191, 81.69369369369369, 57.054263565891475, 65.0354609929078, 66.98717948717949, 54.526091586794465, 61.77821522309711, 57.847707847707845, 62.729658792650916, 65.98639455782313, 67.65536723163842, 63.00560968408621, 61.202185792349724, 56.006006006006004, 58.92255892255892, 58.46994535519126, 53.3161068044789]\n"
     ]
    }
   ],
   "source": [
    "f.gc()"
   ]
  },
  {
   "cell_type": "code",
   "execution_count": 280,
   "metadata": {},
   "outputs": [
    {
     "data": {
      "image/png": "[encoded data removed]",
      "text/plain": [
       "<Figure size 432x288 with 1 Axes>"
      ]
     },
     "metadata": {
      "needs_background": "light"
     },
     "output_type": "display_data"
    }
   ],
   "source": [
    "f.histo_k_mer(['ACGT', 'ACCT', 'GTAC', 'GTTA'])"
   ]
  }
 ],
 "metadata": {
  "kernelspec": {
   "display_name": "Python 3",
   "language": "python",
   "name": "python3"
  },
  "language_info": {
   "codemirror_mode": {
    "name": "ipython",
    "version": 3
   },
   "file_extension": ".py",
   "mimetype": "text/x-python",
   "name": "python",
   "nbconvert_exporter": "python",
   "pygments_lexer": "ipython3",
   "version": "3.7.4"
  }
 },
 "nbformat": 4,
 "nbformat_minor": 2
}
