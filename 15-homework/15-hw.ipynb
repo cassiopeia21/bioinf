{
 "cells": [
  {
   "cell_type": "markdown",
   "metadata": {},
   "source": [
    "#### 1."
   ]
  },
  {
   "cell_type": "code",
   "execution_count": 5,
   "metadata": {},
   "outputs": [],
   "source": [
    "import urllib\n",
    "import io\n",
    "import re\n",
    "from collections import defaultdict"
   ]
  },
  {
   "cell_type": "code",
   "execution_count": 6,
   "metadata": {},
   "outputs": [],
   "source": [
    "ftps = open(\"ftps.txt\", \"x\")"
   ]
  },
  {
   "cell_type": "code",
   "execution_count": 11,
   "metadata": {},
   "outputs": [],
   "source": [
    "response = urllib.request.urlopen('https://raw.githubusercontent.com/Serfentum/bf_course/master/15.re/references')\n",
    "ftps = open(\"ftps.txt\", \"a\")\n",
    "for line in io.TextIOWrapper(response):\n",
    "    a = re.findall(r'ftp\\.sra\\.ebi\\.ac\\.uk/[\\w/_#\\.]+(?=[;\\t\\n])', line)\n",
    "    '\\n'.join(a)\n",
    "ftps.close()"
   ]
  },
  {
   "cell_type": "markdown",
   "metadata": {},
   "source": [
    "#### 2."
   ]
  },
  {
   "cell_type": "code",
   "execution_count": 101,
   "metadata": {},
   "outputs": [],
   "source": [
    "response = urllib.request.urlopen('https://raw.githubusercontent.com/Serfentum/bf_course/master/15.re/2430AD')\n",
    "\n",
    "digits = []\n",
    "\n",
    "for line in io.TextIOWrapper(response):\n",
    "    a = re.findall(\"[-+]?\\d*\\.\\d+|\\d+\", line)\n",
    "    for element in a:\n",
    "        digits.append(element)"
   ]
  },
  {
   "cell_type": "code",
   "execution_count": 102,
   "metadata": {},
   "outputs": [
    {
     "data": {
      "text/plain": [
       "['2430',\n",
       " '1969',\n",
       " '2430',\n",
       " '2430',\n",
       " '57',\n",
       " '57',\n",
       " '1970',\n",
       " '3.68',\n",
       " '35',\n",
       " '460',\n",
       " '2430']"
      ]
     },
     "execution_count": 102,
     "metadata": {},
     "output_type": "execute_result"
    }
   ],
   "source": [
    "digits"
   ]
  },
  {
   "cell_type": "markdown",
   "metadata": {},
   "source": [
    "#### 3."
   ]
  },
  {
   "cell_type": "code",
   "execution_count": 12,
   "metadata": {},
   "outputs": [],
   "source": [
    "response = urllib.request.urlopen('https://raw.githubusercontent.com/Serfentum/bf_course/master/15.re/2430AD')\n",
    "list_result = []\n",
    "for line in io.TextIOWrapper(response):\n",
    "    result = re.findall(r'\\b\\w*[aA]\\w*\\b',line)\n",
    "    for element in result:\n",
    "        if element not in list_result:\n",
    "            list_result.append(element)"
   ]
  },
  {
   "cell_type": "code",
   "execution_count": 13,
   "metadata": {},
   "outputs": [
    {
     "data": {
      "text/plain": [
       "['A', 'and', 'dawn', 'all', 'ache']"
      ]
     },
     "execution_count": 13,
     "metadata": {},
     "output_type": "execute_result"
    }
   ],
   "source": [
    "list_result[0:5]"
   ]
  },
  {
   "cell_type": "markdown",
   "metadata": {},
   "source": [
    "#### 4."
   ]
  },
  {
   "cell_type": "code",
   "execution_count": 117,
   "metadata": {},
   "outputs": [],
   "source": [
    "response = urllib.request.urlopen('https://raw.githubusercontent.com/Serfentum/bf_course/master/15.re/2430AD')\n",
    "sentences = []\n",
    "for line in io.TextIOWrapper(response):\n",
    "    result = re.findall(r\"\\w+[^.!?]*[!]\",line)\n",
    "    for element in result:\n",
    "        sentences.append(element)"
   ]
  },
  {
   "cell_type": "code",
   "execution_count": 118,
   "metadata": {},
   "outputs": [
    {
     "data": {
      "text/plain": [
       "['Yes!',\n",
       " 'Literally!',\n",
       " 'There was once a time!',\n",
       " 'Centuries ago!',\n",
       " 'Think, Cranwitz!',\n",
       " 'If we succeed!']"
      ]
     },
     "execution_count": 118,
     "metadata": {},
     "output_type": "execute_result"
    }
   ],
   "source": [
    "sentences"
   ]
  },
  {
   "cell_type": "markdown",
   "metadata": {},
   "source": [
    "#### 5."
   ]
  },
  {
   "cell_type": "code",
   "execution_count": 140,
   "metadata": {},
   "outputs": [],
   "source": [
    "import matplotlib.pyplot as plt"
   ]
  },
  {
   "cell_type": "code",
   "execution_count": 126,
   "metadata": {},
   "outputs": [],
   "source": [
    "response = urllib.request.urlopen('https://raw.githubusercontent.com/Serfentum/bf_course/master/15.re/2430AD')\n",
    "list_result = []\n",
    "for line in io.TextIOWrapper(response):\n",
    "    result = re.findall(r\"\\b\\w*\\w*\\b\",line)\n",
    "    for element in result:\n",
    "        if len(element) >= 2 and element not in list_result:\n",
    "            list_result.append(element)"
   ]
  },
  {
   "cell_type": "code",
   "execution_count": 137,
   "metadata": {},
   "outputs": [],
   "source": [
    "result_dict = defaultdict(list)\n",
    "\n",
    "max_length = 0\n",
    "for element in list_result:\n",
    "    if len(element) > max_length:\n",
    "        max_length = len(element)\n",
    "        \n",
    "for i in range(2, max_length + 1):\n",
    "    result_dict[i] = 0\n",
    "\n",
    "for element in list_result:\n",
    "    result_dict[len(element)] += 1"
   ]
  },
  {
   "cell_type": "code",
   "execution_count": 138,
   "metadata": {},
   "outputs": [
    {
     "data": {
      "text/plain": [
       "defaultdict(list,\n",
       "            {2: 43,\n",
       "             3: 94,\n",
       "             4: 185,\n",
       "             5: 149,\n",
       "             6: 146,\n",
       "             7: 133,\n",
       "             8: 100,\n",
       "             9: 64,\n",
       "             10: 35,\n",
       "             11: 24,\n",
       "             12: 8,\n",
       "             13: 2,\n",
       "             14: 3,\n",
       "             15: 2})"
      ]
     },
     "execution_count": 138,
     "metadata": {},
     "output_type": "execute_result"
    }
   ],
   "source": [
    "result_dict"
   ]
  },
  {
   "cell_type": "code",
   "execution_count": 141,
   "metadata": {},
   "outputs": [
    {
     "data": {
      "image/png": "[encoded data removed]",
      "text/plain": [
       "<Figure size 432x288 with 1 Axes>"
      ]
     },
     "metadata": {
      "needs_background": "light"
     },
     "output_type": "display_data"
    }
   ],
   "source": [
    "ax = plt.gca()\n",
    "ax.bar(result_dict.keys(), result_dict.values())\n",
    "plt.show()"
   ]
  },
  {
   "cell_type": "markdown",
   "metadata": {},
   "source": [
    "#### 6."
   ]
  },
  {
   "cell_type": "code",
   "execution_count": null,
   "metadata": {},
   "outputs": [],
   "source": [
    "e_mail = re.findall(r\"(^[a-zA-Z0-9_.+-]+@[a-zA-Z0-9-]+\\.[a-zA-Z0-9-.]+$)\", string)"
   ]
  }
 ],
 "metadata": {
  "kernelspec": {
   "display_name": "Python 3",
   "language": "python",
   "name": "python3"
  },
  "language_info": {
   "codemirror_mode": {
    "name": "ipython",
    "version": 3
   },
   "file_extension": ".py",
   "mimetype": "text/x-python",
   "name": "python",
   "nbconvert_exporter": "python",
   "pygments_lexer": "ipython3",
   "version": "3.7.4"
  }
 },
 "nbformat": 4,
 "nbformat_minor": 2
}
