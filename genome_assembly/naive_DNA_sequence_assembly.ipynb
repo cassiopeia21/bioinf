{
 "cells": [
  {
   "cell_type": "code",
   "execution_count": 6,
   "metadata": {},
   "outputs": [],
   "source": [
    "from Bio import SeqIO\n",
    "from Bio import pairwise2\n",
    "from Bio.pairwise2 import format_alignment\n",
    "import math"
   ]
  },
  {
   "cell_type": "code",
   "execution_count": 7,
   "metadata": {},
   "outputs": [],
   "source": [
    "def receive_sequences(path):\n",
    "    \"\"\"\n",
    "    \n",
    "    path: a pathway to fasta file \n",
    "    \n",
    "    return: a list of sequences from fasta file\n",
    "    \n",
    "    \"\"\"\n",
    "    sequences = []\n",
    "    for seq_record in SeqIO.parse(path, \"fasta\"): \n",
    "        sequences.append(str(seq_record.seq))\n",
    "    return sequences"
   ]
  },
  {
   "cell_type": "code",
   "execution_count": 31,
   "metadata": {},
   "outputs": [],
   "source": [
    "def score_allignment(seq, sequence):\n",
    "    \n",
    "    \"\"\"\n",
    "    \n",
    "    seq: the first sequence in input fasta file\n",
    "    sequence: the list of input sequences\n",
    "    \n",
    "    return: the dictionary with score of alignment sequences\n",
    "    \n",
    "    \"\"\"\n",
    "    \n",
    "    score = {}\n",
    "    \n",
    "    for i in range(1, len(sequence)):\n",
    "        seq1 = sequence[i]\n",
    "        alignment = pairwise2.align.localms(seq, seq1, 1, -1, -1, -1)\n",
    "        if alignment:\n",
    "            alignment = alignment[0]\n",
    "            score[i] = alignment[2]\n",
    "        else:\n",
    "            score[i] = 0\n",
    "    \n",
    "    return score"
   ]
  },
  {
   "cell_type": "code",
   "execution_count": 32,
   "metadata": {},
   "outputs": [],
   "source": [
    "def match(sequence, seq, score, threshold):\n",
    "    '''\n",
    "    \n",
    "    sequence: the list of input sequences\n",
    "    seq: the first sequence in input fasta file\n",
    "    score : the dictionary with alignment scores\n",
    "    \n",
    "    return : the list with alignment sequences \n",
    "    '''\n",
    "    \n",
    "    while len(sequence) != 1 and max(score.values()) >= threshold:\n",
    "        for i in sorted(score, key = score.get, reverse = True):\n",
    "\n",
    "            if score[i] >= threshold:\n",
    "                position = i\n",
    "                seq1 = sequence[position]\n",
    "                alignment = pairwise2.align.localms(seq, seq1, 1, -1, -1, -1)[0]\n",
    "                fragment = alignment[0][alignment[3]:alignment[4]]\n",
    "                flagment_len = alignment[4] - alignment[3]\n",
    "\n",
    "                if (seq.endswith(fragment) and seq1.startswith(fragment)):\n",
    "                    sequence.pop(pair_pos)\n",
    "                    sequence.pop(0)\n",
    "                    sequence.append(SeqRecord(seq + seq1[flagment_len:]))\n",
    "                    break\n",
    "\n",
    "                elif (seq1.endswith(fragment) and seq.startswith(fragment)):\n",
    "                    sequence.pop(pair_pos)\n",
    "                    sequence.pop(0)\n",
    "                    sequence.append(SeqRecord(seq1 + seq[flagment_len:]))\n",
    "                    break\n",
    "\n",
    "            else:\n",
    "                sequence.append(sequence[0])\n",
    "                sequence.pop(0)\n",
    "            \n",
    "    return sequence"
   ]
  },
  {
   "cell_type": "code",
   "execution_count": 33,
   "metadata": {},
   "outputs": [],
   "source": [
    "path = 'cds.fasta'"
   ]
  },
  {
   "cell_type": "code",
   "execution_count": 34,
   "metadata": {},
   "outputs": [],
   "source": [
    "sequences = receive_sequences(path)"
   ]
  },
  {
   "cell_type": "code",
   "execution_count": 35,
   "metadata": {},
   "outputs": [
    {
     "name": "stdout",
     "output_type": "stream",
     "text": [
      "['GTAGC', 'AGCTC', 'GCTCC', 'TGTAG', 'TAGCT', 'ATGTA']\n"
     ]
    }
   ],
   "source": [
    "score = score_allignment(sequences[0], sequences)\n",
    "print(match(sequences, sequences[0], score, threshold = 6))"
   ]
  }
 ],
 "metadata": {
  "kernelspec": {
   "display_name": "Python 3",
   "language": "python",
   "name": "python3"
  },
  "language_info": {
   "codemirror_mode": {
    "name": "ipython",
    "version": 3
   },
   "file_extension": ".py",
   "mimetype": "text/x-python",
   "name": "python",
   "nbconvert_exporter": "python",
   "pygments_lexer": "ipython3",
   "version": "3.7.4"
  }
 },
 "nbformat": 4,
 "nbformat_minor": 2
}
