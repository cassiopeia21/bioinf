{
 "cells": [
  {
   "cell_type": "code",
   "execution_count": 1,
   "metadata": {},
   "outputs": [],
   "source": [
    "from Bio import SeqIO\n",
    "from Bio.SeqRecord import SeqRecord\n",
    "from Bio import pairwise2\n",
    "from Bio.pairwise2 import format_alignment"
   ]
  },
  {
   "cell_type": "code",
   "execution_count": 39,
   "metadata": {},
   "outputs": [],
   "source": [
    "def receive_sequences(path):\n",
    "    \"\"\"\n",
    "    \n",
    "    path: a pathway to fasta file \n",
    "    \n",
    "    return: a list of sequences from fasta file\n",
    "    \n",
    "    \"\"\"\n",
    "    sequences = list(SeqIO.parse(path, 'fasta'))\n",
    "    \n",
    "    return sequences"
   ]
  },
  {
   "cell_type": "code",
   "execution_count": 80,
   "metadata": {},
   "outputs": [],
   "source": [
    "def match(new_seqs, output, threshold = 6):\n",
    "    '''\n",
    "    \n",
    "    new_seqs: the list of input sequences\n",
    "    ouput: name of output file \n",
    "    \n",
    "    return : the list with alignment sequences \n",
    "    '''\n",
    "    threshold_iter = len(new_seqs)*10\n",
    "    score = {0: 100}\n",
    "    iteration = 0\n",
    "    \n",
    "    while (len(new_seqs) != 1) and (max(score.values()) >= threshold) and iteration < threshold_iter:\n",
    "        iteration += 1\n",
    "        score = {}\n",
    "        a = new_seqs[0].seq\n",
    "        for j in range(1, len(new_seqs)):\n",
    "            b = new_seqs[j].seq\n",
    "            aln = pairwise2.align.localms(a, b, 1, -1, -1, -1)\n",
    "            if aln:\n",
    "                aln = aln[0]\n",
    "                score[j] = aln[2]\n",
    "            else:\n",
    "                score[j] = 0\n",
    "                      \n",
    "        for k in sorted(score, key=score.get, reverse=True):\n",
    "            if score[k] >= threshold:\n",
    "                pair_pos = k\n",
    "                c = new_seqs[pair_pos].seq\n",
    "                aln_true = pairwise2.align.localms(a, c, 1, -1, -1, -1)[0]\n",
    "                fragment = aln_true[0][aln_true[3]:aln_true[4]]\n",
    "                flag_len = aln_true[4] - aln_true[3]\n",
    "                if (a.endswith(fragment) and c.startswith(fragment)):\n",
    "                    new_seqs.pop(pair_pos)\n",
    "                    new_seqs.pop(0)\n",
    "                    new_seqs.append(SeqRecord(a + c[flag_len:]))\n",
    "                    break\n",
    "                elif (c.endswith(fragment) and a.startswith(fragment)):\n",
    "                    new_seqs.pop(pair_pos)\n",
    "                    new_seqs.pop(0)\n",
    "                    new_seqs.append(SeqRecord(c + a[flag_len:]))\n",
    "                    break\n",
    "            else:\n",
    "                temp = new_seqs[0]\n",
    "                new_seqs.pop(0)\n",
    "                new_seqs.append(temp)\n",
    "    \n",
    "    SeqIO.write(new_seqs, output, 'fasta')"
   ]
  },
  {
   "cell_type": "code",
   "execution_count": 81,
   "metadata": {},
   "outputs": [],
   "source": [
    "path = 'for_assembler_comparison_ATGTAGCTCCATTGTGTTGCCATCTCTGCACTACGCTC.fasta'"
   ]
  },
  {
   "cell_type": "code",
   "execution_count": 82,
   "metadata": {},
   "outputs": [],
   "source": [
    "sequences = receive_sequences(path)"
   ]
  },
  {
   "cell_type": "code",
   "execution_count": 83,
   "metadata": {},
   "outputs": [],
   "source": [
    "match(sequences, 'out_file.fasta', threshold = 6)"
   ]
  },
  {
   "cell_type": "code",
   "execution_count": null,
   "metadata": {},
   "outputs": [],
   "source": []
  },
  {
   "cell_type": "code",
   "execution_count": null,
   "metadata": {},
   "outputs": [],
   "source": []
  }
 ],
 "metadata": {
  "kernelspec": {
   "display_name": "Python 3",
   "language": "python",
   "name": "python3"
  },
  "language_info": {
   "codemirror_mode": {
    "name": "ipython",
    "version": 3
   },
   "file_extension": ".py",
   "mimetype": "text/x-python",
   "name": "python",
   "nbconvert_exporter": "python",
   "pygments_lexer": "ipython3",
   "version": "3.7.4"
  }
 },
 "nbformat": 4,
 "nbformat_minor": 2
}
