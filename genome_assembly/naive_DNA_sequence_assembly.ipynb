{
 "cells": [
  {
   "cell_type": "code",
   "execution_count": 1,
   "metadata": {},
   "outputs": [],
   "source": [
    "from Bio import SeqIO\n",
    "from Bio import pairwise2\n",
    "from Bio.pairwise2 import format_alignment\n",
    "import math"
   ]
  },
  {
   "cell_type": "code",
   "execution_count": 2,
   "metadata": {},
   "outputs": [],
   "source": [
    "def receive_sequences(path):\n",
    "    \"\"\"\n",
    "    \n",
    "    path: a pathway to fasta file \n",
    "    return: a list of sequences from fasta file\n",
    "    \n",
    "    \"\"\"\n",
    "    sequences = []\n",
    "    for seq_record in SeqIO.parse(path, \"fasta\"): \n",
    "        sequences.append(str(seq_record.seq))\n",
    "    return sequences"
   ]
  },
  {
   "cell_type": "code",
   "execution_count": 3,
   "metadata": {},
   "outputs": [],
   "source": [
    "def score_allignment(seq1, seq2):\n",
    "    \n",
    "    \"\"\"\n",
    "    \n",
    "    seq1: the first sequence\n",
    "    seq2: the second sequence\n",
    "    return: the score of alignment sequences\n",
    "    \n",
    "    \"\"\"\n",
    "    \n",
    "    for a in pairwise2.align.localms(seq1, seq2, 1, -1, -1, -1):\n",
    "        format_alignment(*a)\n",
    "    return int(a[2])"
   ]
  },
  {
   "cell_type": "code",
   "execution_count": 4,
   "metadata": {},
   "outputs": [],
   "source": [
    "def match(seq1, seq2):\n",
    "    \"\"\"\n",
    "    \n",
    "    seq1: the first sequence\n",
    "    seq2: the second sequence\n",
    "    \n",
    "    This function check the assumption \n",
    "    that the first sequence ends by nucleotides \n",
    "    from which another sequence starts\n",
    "    \n",
    "    retun True or False\n",
    "    \n",
    "    \"\"\"\n",
    "    \n",
    "    score = score_allignment(seq1, seq2)\n",
    "    finish = seq1[len(seq1) - score:]\n",
    "    start = seq2[:score]\n",
    "    if finish == start:\n",
    "        return True\n",
    "    else:\n",
    "        return False"
   ]
  },
  {
   "cell_type": "code",
   "execution_count": 5,
   "metadata": {},
   "outputs": [],
   "source": [
    "path = 'cds.fasta'"
   ]
  },
  {
   "cell_type": "code",
   "execution_count": 6,
   "metadata": {},
   "outputs": [],
   "source": [
    "sequences = receive_sequences(path)"
   ]
  },
  {
   "cell_type": "code",
   "execution_count": 164,
   "metadata": {},
   "outputs": [],
   "source": [
    "alignment = ''\n",
    "stop_index = []\n",
    "add_seq = []\n",
    "for i in range(len(sequences)):\n",
    "    score = 0\n",
    "    if i not in stop_index:\n",
    "        for j in range(len(sequences)):\n",
    "            if i != j and match(sequences[j], sequences[i]) == False:\n",
    "                score += 1\n",
    "        if score == len(sequences) - 1:\n",
    "            alignment += sequences[i]\n",
    "            add_seq.append(sequences[i])\n",
    "            stop_index.append(i)"
   ]
  },
  {
   "cell_type": "code",
   "execution_count": 165,
   "metadata": {},
   "outputs": [
    {
     "data": {
      "text/plain": [
       "'ACTCGTC'"
      ]
     },
     "execution_count": 165,
     "metadata": {},
     "output_type": "execute_result"
    }
   ],
   "source": [
    "alignment"
   ]
  },
  {
   "cell_type": "code",
   "execution_count": 158,
   "metadata": {},
   "outputs": [],
   "source": [
    "def matching_score(alignment, seq):\n",
    "    a = []\n",
    "    for elem in seq:\n",
    "        a.append(score_allignment(alignment, elem))\n",
    "    a = sorted(a)\n",
    "    return a[:-1]"
   ]
  },
  {
   "cell_type": "code",
   "execution_count": 159,
   "metadata": {},
   "outputs": [],
   "source": [
    "scores = matching_score(alignment, sequences)"
   ]
  },
  {
   "cell_type": "code",
   "execution_count": 160,
   "metadata": {},
   "outputs": [
    {
     "data": {
      "text/plain": [
       "[3, 4]"
      ]
     },
     "execution_count": 160,
     "metadata": {},
     "output_type": "execute_result"
    }
   ],
   "source": [
    "scores"
   ]
  },
  {
   "cell_type": "code",
   "execution_count": 166,
   "metadata": {},
   "outputs": [],
   "source": [
    "while len(scores) != 0:\n",
    "    for i in range(len(sequences)):\n",
    "        scores = matching_score(alignment, sequences)\n",
    "        if match(alignment, sequences[i]) and score_allignment(alignment, sequences[i]) == scores[-1]:\n",
    "            alignment += sequences[i][scores[-1]:]\n",
    "            scores = scores[:-1]\n",
    "            add_seq.append(sequences[i])\n",
    "    if len(scores) == 1:\n",
    "        for elem in sequences:\n",
    "            if elem not in add_seq:\n",
    "                alignment += elem[scores[0]:]\n",
    "                break\n",
    "        break\n",
    "        "
   ]
  },
  {
   "cell_type": "code",
   "execution_count": 167,
   "metadata": {},
   "outputs": [
    {
     "data": {
      "text/plain": [
       "'ACTCGTCAAAAGTGTCATC'"
      ]
     },
     "execution_count": 167,
     "metadata": {},
     "output_type": "execute_result"
    }
   ],
   "source": [
    "alignment"
   ]
  }
 ],
 "metadata": {
  "kernelspec": {
   "display_name": "Python 3",
   "language": "python",
   "name": "python3"
  },
  "language_info": {
   "codemirror_mode": {
    "name": "ipython",
    "version": 3
   },
   "file_extension": ".py",
   "mimetype": "text/x-python",
   "name": "python",
   "nbconvert_exporter": "python",
   "pygments_lexer": "ipython3",
   "version": "3.7.4"
  }
 },
 "nbformat": 4,
 "nbformat_minor": 2
}
