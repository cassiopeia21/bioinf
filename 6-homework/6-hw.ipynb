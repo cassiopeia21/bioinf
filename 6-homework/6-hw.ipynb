{
 "cells": [
  {
   "cell_type": "markdown",
   "metadata": {},
   "source": [
    "### 1."
   ]
  },
  {
   "cell_type": "code",
   "execution_count": 1,
   "metadata": {},
   "outputs": [],
   "source": [
    "def func_flatten(flatten_list):\n",
    "    a = []\n",
    "    for elem in flatten_list:\n",
    "        if type(elem) != list:\n",
    "            required_list.append(elem)\n",
    "        else:\n",
    "            a.append(func_flatten(elem))\n",
    "    return required_list"
   ]
  },
  {
   "cell_type": "code",
   "execution_count": 2,
   "metadata": {},
   "outputs": [
    {
     "name": "stdout",
     "output_type": "stream",
     "text": [
      "[1, 1, 2, 3, 4, 5, 6]\n"
     ]
    }
   ],
   "source": [
    "flatten = ([1, [1, 2], 3, [[4, 5, [6]]]])\n",
    "required_list = []\n",
    "print(func_flatten(flatten))"
   ]
  },
  {
   "cell_type": "markdown",
   "metadata": {},
   "source": [
    "### 2."
   ]
  },
  {
   "cell_type": "code",
   "execution_count": 3,
   "metadata": {},
   "outputs": [],
   "source": [
    "def fibo(n):\n",
    "    if n == 0:\n",
    "        return 0\n",
    "    if n == 1:\n",
    "        return 1\n",
    "    return fibo(n-2) + fibo(n-1)"
   ]
  },
  {
   "cell_type": "code",
   "execution_count": 4,
   "metadata": {},
   "outputs": [
    {
     "name": "stdout",
     "output_type": "stream",
     "text": [
      "Enter the value 8\n",
      "21\n"
     ]
    }
   ],
   "source": [
    "n = int(input('Enter the value '))\n",
    "print(fibo(n))"
   ]
  },
  {
   "cell_type": "markdown",
   "metadata": {},
   "source": [
    "### 3."
   ]
  },
  {
   "cell_type": "code",
   "execution_count": 5,
   "metadata": {},
   "outputs": [],
   "source": [
    "def maximum(max_list):\n",
    "    max_elem = 0\n",
    "    for elem in max_list:\n",
    "        if elem > max_elem:\n",
    "            max_elem = elem \n",
    "    return max_elem"
   ]
  },
  {
   "cell_type": "code",
   "execution_count": 7,
   "metadata": {},
   "outputs": [
    {
     "name": "stdout",
     "output_type": "stream",
     "text": [
      "100 2 34 -45 8\n",
      "100\n"
     ]
    }
   ],
   "source": [
    "max_list = [int(i) for i in input().split()]\n",
    "print(maximum(max_list))"
   ]
  },
  {
   "cell_type": "markdown",
   "metadata": {},
   "source": [
    "### 4."
   ]
  },
  {
   "cell_type": "code",
   "execution_count": 8,
   "metadata": {},
   "outputs": [],
   "source": [
    "def reverse_list(rev_list):\n",
    "    return rev_list[::-1]"
   ]
  },
  {
   "cell_type": "code",
   "execution_count": 9,
   "metadata": {},
   "outputs": [
    {
     "name": "stdout",
     "output_type": "stream",
     "text": [
      "100 2 34 -45 8\n",
      "[8, -45, 34, 2, 100]\n"
     ]
    }
   ],
   "source": [
    "rev_list = [int(i) for i in input().split()]\n",
    "print(reverse_list(rev_list))"
   ]
  },
  {
   "cell_type": "markdown",
   "metadata": {},
   "source": [
    "### 5."
   ]
  },
  {
   "cell_type": "code",
   "execution_count": 10,
   "metadata": {},
   "outputs": [],
   "source": [
    "def find_mean(mean_list):\n",
    "    kol_elem = 0\n",
    "    sum_elem = 0\n",
    "    for elem in mean_list:\n",
    "        kol_elem += 1\n",
    "        sum_elem += elem \n",
    "    return sum_elem / kol_elem"
   ]
  },
  {
   "cell_type": "code",
   "execution_count": 11,
   "metadata": {},
   "outputs": [
    {
     "name": "stdout",
     "output_type": "stream",
     "text": [
      "100 2 3 45 -2 4\n",
      "25.333333333333332\n"
     ]
    }
   ],
   "source": [
    "mean_list = [int(i) for i in input().split()]\n",
    "print(find_mean(mean_list))"
   ]
  },
  {
   "cell_type": "markdown",
   "metadata": {},
   "source": [
    "### 6. "
   ]
  },
  {
   "cell_type": "code",
   "execution_count": 36,
   "metadata": {},
   "outputs": [],
   "source": [
    "def moda(moda_list):\n",
    "    dictionary = {}\n",
    "    for elem in moda_list:\n",
    "        count_elem = moda_list.count(elem)\n",
    "        dictionary[elem] = count_elem\n",
    "    find_max_values = []\n",
    "    for value in dictionary.values():\n",
    "        find_max_values.append(value)\n",
    "    maximum_elem = maximum(find_max_values)\n",
    "    return [key  for (key, value) in dictionary.items()\n",
    "            if value == maximum_elem]"
   ]
  },
  {
   "cell_type": "code",
   "execution_count": 41,
   "metadata": {},
   "outputs": [
    {
     "name": "stdout",
     "output_type": "stream",
     "text": [
      "100 3 100 2 45 45 45 3 45 3 3 -2 4\n",
      "[3, 45]\n"
     ]
    }
   ],
   "source": [
    "moda_list = [int(i) for i in input().split()]\n",
    "print(moda(moda_list))"
   ]
  },
  {
   "cell_type": "markdown",
   "metadata": {},
   "source": [
    "### 7."
   ]
  },
  {
   "cell_type": "code",
   "execution_count": 51,
   "metadata": {},
   "outputs": [],
   "source": [
    "def func_get(collection, element):\n",
    "    if type(collection) == list:\n",
    "        return collection[element]\n",
    "    if type(collection) == dict:\n",
    "        return collection.get(element)"
   ]
  },
  {
   "cell_type": "code",
   "execution_count": 52,
   "metadata": {},
   "outputs": [
    {
     "name": "stdout",
     "output_type": "stream",
     "text": [
      "36\n"
     ]
    }
   ],
   "source": [
    "collection = {1: 2, 'kva': 36}\n",
    "elem = 'kva'\n",
    "print(func_get(collection, elem))"
   ]
  }
 ],
 "metadata": {
  "kernelspec": {
   "display_name": "Python 3",
   "language": "python",
   "name": "python3"
  },
  "language_info": {
   "codemirror_mode": {
    "name": "ipython",
    "version": 3
   },
   "file_extension": ".py",
   "mimetype": "text/x-python",
   "name": "python",
   "nbconvert_exporter": "python",
   "pygments_lexer": "ipython3",
   "version": "3.6.5"
  }
 },
 "nbformat": 4,
 "nbformat_minor": 2
}
