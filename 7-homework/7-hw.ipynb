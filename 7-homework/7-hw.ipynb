{
 "cells": [
  {
   "cell_type": "markdown",
   "metadata": {},
   "source": [
    "### 1."
   ]
  },
  {
   "cell_type": "code",
   "execution_count": 7,
   "metadata": {},
   "outputs": [
    {
     "name": "stdout",
     "output_type": "stream",
     "text": [
      "Olya is my name.\n"
     ]
    }
   ],
   "source": [
    "my_name = 'Olya'\n",
    "print(f\"{my_name} is my name.\")"
   ]
  },
  {
   "cell_type": "code",
   "execution_count": 8,
   "metadata": {},
   "outputs": [
    {
     "data": {
      "text/plain": [
       "'Hello, Olya. I am 25.'"
      ]
     },
     "execution_count": 8,
     "metadata": {},
     "output_type": "execute_result"
    }
   ],
   "source": [
    "name = 'Olya'\n",
    "age = 25\n",
    "\"Hello, %s. I am %s.\" % (name, age)"
   ]
  },
  {
   "cell_type": "code",
   "execution_count": 10,
   "metadata": {},
   "outputs": [
    {
     "data": {
      "text/plain": [
       "'Hello, I am Olya. I am 25.'"
      ]
     },
     "execution_count": 10,
     "metadata": {},
     "output_type": "execute_result"
    }
   ],
   "source": [
    "\"Hello, I am {}. I am {}.\".format(name, age)"
   ]
  },
  {
   "cell_type": "code",
   "execution_count": 11,
   "metadata": {},
   "outputs": [
    {
     "data": {
      "text/plain": [
       "'Hello, I am 25. I am Olya.'"
      ]
     },
     "execution_count": 11,
     "metadata": {},
     "output_type": "execute_result"
    }
   ],
   "source": [
    "\"Hello, I am {1}. I am {0}.\".format(name, age)"
   ]
  },
  {
   "cell_type": "markdown",
   "metadata": {},
   "source": [
    "### 2."
   ]
  },
  {
   "cell_type": "code",
   "execution_count": 1,
   "metadata": {},
   "outputs": [
    {
     "name": "stdout",
     "output_type": "stream",
     "text": [
      "1 2 3 4\n"
     ]
    }
   ],
   "source": [
    "xs = [1,2,3,4]\n",
    "print(*xs)"
   ]
  },
  {
   "cell_type": "code",
   "execution_count": 3,
   "metadata": {},
   "outputs": [
    {
     "name": "stdout",
     "output_type": "stream",
     "text": [
      "1 2 3 4\n"
     ]
    }
   ],
   "source": [
    "a,b,c,d = xs\n",
    "print(a,b,c,d)"
   ]
  },
  {
   "cell_type": "code",
   "execution_count": 6,
   "metadata": {},
   "outputs": [
    {
     "name": "stdout",
     "output_type": "stream",
     "text": [
      "1 [2, 3, 4]\n"
     ]
    }
   ],
   "source": [
    "a,*b = xs\n",
    "print(a,b)"
   ]
  },
  {
   "cell_type": "markdown",
   "metadata": {},
   "source": [
    "### 3."
   ]
  },
  {
   "cell_type": "code",
   "execution_count": 8,
   "metadata": {},
   "outputs": [
    {
     "name": "stdout",
     "output_type": "stream",
     "text": [
      "[1, 4, 9, 16, 25]\n"
     ]
    }
   ],
   "source": [
    "xs = [1,2,3,4,5]\n",
    "xs_sq = [elem ** 2 for elem in xs]\n",
    "print(xs_sq)"
   ]
  },
  {
   "cell_type": "code",
   "execution_count": 1,
   "metadata": {},
   "outputs": [
    {
     "name": "stdout",
     "output_type": "stream",
     "text": [
      "[5, 7, 9, 11]\n"
     ]
    }
   ],
   "source": [
    "xs_1 = [0,1,2,3]\n",
    "xs_2 = [5,6,7,8]\n",
    "xs_3 = [elem_1 + elem_2 for elem_1,elem_2 in zip(xs_1,xs_2)]\n",
    "print(xs_3)"
   ]
  },
  {
   "cell_type": "code",
   "execution_count": 14,
   "metadata": {},
   "outputs": [
    {
     "name": "stdout",
     "output_type": "stream",
     "text": [
      "['A->C', 'C->T', 'T->G', 'G->C', 'T->A']\n"
     ]
    }
   ],
   "source": [
    "seq_1 = 'AACTCGGT'\n",
    "seq_2 = 'ACTGCCGA'\n",
    "an_seq = [ (seq_1[i] + '->' + seq_2[i])  for i in range(len(seq_1)) if seq_1[i] != seq_2[i]]\n",
    "print(an_seq)"
   ]
  },
  {
   "cell_type": "code",
   "execution_count": 80,
   "metadata": {},
   "outputs": [
    {
     "data": {
      "text/plain": [
       "[[0, 1, 2], [3, 4, 5], [6, 7, 8]]"
      ]
     },
     "execution_count": 80,
     "metadata": {},
     "output_type": "execute_result"
    }
   ],
   "source": [
    "matr = [[ i + 3*j for i in range(3)] for j in range(3)]\n",
    "matr"
   ]
  },
  {
   "cell_type": "markdown",
   "metadata": {},
   "source": [
    "### 4."
   ]
  },
  {
   "cell_type": "code",
   "execution_count": 99,
   "metadata": {},
   "outputs": [],
   "source": [
    "def linary_searching(elem, xm):\n",
    "    ''' \n",
    "    elem : element of list \n",
    "    xm : list, where we should find elem\n",
    "    return: index of element and element \n",
    "    '''\n",
    "    for i, element in enumerate(xm):\n",
    "        if element == elem:\n",
    "            return i, element"
   ]
  },
  {
   "cell_type": "code",
   "execution_count": 100,
   "metadata": {},
   "outputs": [
    {
     "name": "stdout",
     "output_type": "stream",
     "text": [
      "(4, 7)\n"
     ]
    }
   ],
   "source": [
    "xm = [1,2,3,4,7,6,5,9]\n",
    "elem = 7\n",
    "print(linary_searching(elem, xm))"
   ]
  },
  {
   "cell_type": "markdown",
   "metadata": {},
   "source": [
    "### 5. "
   ]
  },
  {
   "cell_type": "code",
   "execution_count": 366,
   "metadata": {},
   "outputs": [],
   "source": [
    "def binary(elem, xm):\n",
    "    ind = len(xm) // 2\n",
    "    xm_copy = xm\n",
    "    mean = xm[ind]\n",
    "    while len(xm) > 1:\n",
    "        if mean > elem:\n",
    "            xm = xm[:ind]\n",
    "        elif mean < elem:\n",
    "            xm = xm[ind:]\n",
    "        else:\n",
    "            return mean, xm_copy.index(mean)\n",
    "        ind = len(xm) // 2\n",
    "        if ind == 0:\n",
    "            return xm[0], 0\n",
    "        mean = xm[ind]"
   ]
  },
  {
   "cell_type": "code",
   "execution_count": 367,
   "metadata": {},
   "outputs": [
    {
     "name": "stdout",
     "output_type": "stream",
     "text": [
      "Enter the element 5\n",
      "(5, 1)\n"
     ]
    }
   ],
   "source": [
    "xm = [3,5,6,8,9,19,23,53,18]\n",
    "xm = sorted(xm)\n",
    "elem = int(input('Enter the element '))\n",
    "print(binary(elem, xm))"
   ]
  }
 ],
 "metadata": {
  "kernelspec": {
   "display_name": "Python 3",
   "language": "python",
   "name": "python3"
  },
  "language_info": {
   "codemirror_mode": {
    "name": "ipython",
    "version": 3
   },
   "file_extension": ".py",
   "mimetype": "text/x-python",
   "name": "python",
   "nbconvert_exporter": "python",
   "pygments_lexer": "ipython3",
   "version": "3.6.5"
  }
 },
 "nbformat": 4,
 "nbformat_minor": 2
}
