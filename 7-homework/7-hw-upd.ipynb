{
 "cells": [
  {
   "cell_type": "markdown",
   "metadata": {},
   "source": [
    "### 1."
   ]
  },
  {
   "cell_type": "code",
   "execution_count": 7,
   "metadata": {},
   "outputs": [
    {
     "name": "stdout",
     "output_type": "stream",
     "text": [
      "Olya is my name.\n"
     ]
    }
   ],
   "source": [
    "my_name = 'Olya'\n",
    "print(f\"{my_name} is my name.\")"
   ]
  },
  {
   "cell_type": "code",
   "execution_count": 8,
   "metadata": {},
   "outputs": [
    {
     "data": {
      "text/plain": [
       "'Hello, Olya. I am 25.'"
      ]
     },
     "execution_count": 8,
     "metadata": {},
     "output_type": "execute_result"
    }
   ],
   "source": [
    "name = 'Olya'\n",
    "age = 25\n",
    "\"Hello, %s. I am %s.\" % (name, age)"
   ]
  },
  {
   "cell_type": "code",
   "execution_count": 10,
   "metadata": {},
   "outputs": [
    {
     "data": {
      "text/plain": [
       "'Hello, I am Olya. I am 25.'"
      ]
     },
     "execution_count": 10,
     "metadata": {},
     "output_type": "execute_result"
    }
   ],
   "source": [
    "\"Hello, I am {}. I am {}.\".format(name, age)"
   ]
  },
  {
   "cell_type": "code",
   "execution_count": 11,
   "metadata": {},
   "outputs": [
    {
     "data": {
      "text/plain": [
       "'Hello, I am 25. I am Olya.'"
      ]
     },
     "execution_count": 11,
     "metadata": {},
     "output_type": "execute_result"
    }
   ],
   "source": [
    "\"Hello, I am {1}. I am {0}.\".format(name, age)"
   ]
  },
  {
   "cell_type": "markdown",
   "metadata": {},
   "source": [
    "### 2."
   ]
  },
  {
   "cell_type": "code",
   "execution_count": 1,
   "metadata": {},
   "outputs": [
    {
     "name": "stdout",
     "output_type": "stream",
     "text": [
      "1 2 3 4\n"
     ]
    }
   ],
   "source": [
    "xs = [1,2,3,4]\n",
    "print(*xs)"
   ]
  },
  {
   "cell_type": "code",
   "execution_count": 3,
   "metadata": {},
   "outputs": [
    {
     "name": "stdout",
     "output_type": "stream",
     "text": [
      "1 2 3 4\n"
     ]
    }
   ],
   "source": [
    "a,b,c,d = xs\n",
    "print(a,b,c,d)"
   ]
  },
  {
   "cell_type": "code",
   "execution_count": 6,
   "metadata": {},
   "outputs": [
    {
     "name": "stdout",
     "output_type": "stream",
     "text": [
      "1 [2, 3, 4]\n"
     ]
    }
   ],
   "source": [
    "a,*b = xs\n",
    "print(a,b)"
   ]
  },
  {
   "cell_type": "markdown",
   "metadata": {},
   "source": [
    "### 3."
   ]
  },
  {
   "cell_type": "code",
   "execution_count": 8,
   "metadata": {},
   "outputs": [
    {
     "name": "stdout",
     "output_type": "stream",
     "text": [
      "[1, 4, 9, 16, 25]\n"
     ]
    }
   ],
   "source": [
    "xs = [1,2,3,4,5]\n",
    "xs_sq = [elem ** 2 for elem in xs]\n",
    "print(xs_sq)"
   ]
  },
  {
   "cell_type": "code",
   "execution_count": 18,
   "metadata": {},
   "outputs": [
    {
     "name": "stdout",
     "output_type": "stream",
     "text": [
      "{5, 6, 7, 8, 9, 10, 11}\n"
     ]
    }
   ],
   "source": [
    "xs_1 = [0,1,2,3]\n",
    "xs_2 = [5,6,7,8]\n",
    "xs_3 = [elem_1 + elem_2\n",
    "        for elem_1 in xs_1 \n",
    "        for elem_2 in xs_2]\n",
    "print(set(xs_3))"
   ]
  },
  {
   "cell_type": "code",
   "execution_count": 19,
   "metadata": {},
   "outputs": [
    {
     "name": "stdout",
     "output_type": "stream",
     "text": [
      "{'G->C', 'A->T', 'C->T', 'C->A', 'A->G', 'T->G', 'G->A', 'T->A', 'A->C', 'C->G', 'T->C', 'G->T'}\n"
     ]
    }
   ],
   "source": [
    "seq_1 = 'AACTCGGT'\n",
    "an_seq = [ n1  + '->' + n2 \n",
    "           for n1 in seq_1 \n",
    "           for n2 in seq_1 \n",
    "           if n1 != n2 ]\n",
    "print(set(an_seq))"
   ]
  },
  {
   "cell_type": "code",
   "execution_count": 80,
   "metadata": {},
   "outputs": [
    {
     "data": {
      "text/plain": [
       "[[0, 1, 2], [3, 4, 5], [6, 7, 8]]"
      ]
     },
     "execution_count": 80,
     "metadata": {},
     "output_type": "execute_result"
    }
   ],
   "source": [
    "matr = [[ i + 3*j for i in range(3)] for j in range(3)]\n",
    "matr"
   ]
  },
  {
   "cell_type": "markdown",
   "metadata": {},
   "source": [
    "### 4."
   ]
  },
  {
   "cell_type": "code",
   "execution_count": 99,
   "metadata": {},
   "outputs": [],
   "source": [
    "def linary_searching(elem, xm):\n",
    "    ''' \n",
    "    elem : element of list \n",
    "    xm : list, where we should find elem\n",
    "    return: index of element and element \n",
    "    '''\n",
    "    for i, element in enumerate(xm):\n",
    "        if element == elem:\n",
    "            return i, element"
   ]
  },
  {
   "cell_type": "code",
   "execution_count": 100,
   "metadata": {},
   "outputs": [
    {
     "name": "stdout",
     "output_type": "stream",
     "text": [
      "(4, 7)\n"
     ]
    }
   ],
   "source": [
    "xm = [1,2,3,4,7,6,5,9]\n",
    "elem = 7\n",
    "print(linary_searching(elem, xm))"
   ]
  },
  {
   "cell_type": "markdown",
   "metadata": {},
   "source": [
    "### 5. "
   ]
  },
  {
   "cell_type": "code",
   "execution_count": 41,
   "metadata": {},
   "outputs": [],
   "source": [
    "def binary(elem, xm):\n",
    "    '''\n",
    "    elem : element of list \n",
    "    xm : sorted list, where we should find elem\n",
    "    return: index of element and element \n",
    "    '''\n",
    "    low = 0\n",
    "    high = len(xm) - 1\n",
    "    while low <= high:\n",
    "        mid = (low + high) // 2\n",
    "        if elem < xm[mid]:\n",
    "            high = mid - 1\n",
    "        elif elem > xm[mid]:\n",
    "            low = mid + 1\n",
    "        else:\n",
    "            return(elem,mid)\n",
    "            break\n",
    "    return('No value')"
   ]
  },
  {
   "cell_type": "code",
   "execution_count": 43,
   "metadata": {},
   "outputs": [
    {
     "name": "stdout",
     "output_type": "stream",
     "text": [
      "[1, 2, 5, 6, 32, 34, 56]\n",
      "Enter the required element 5\n",
      "(5, 2)\n"
     ]
    }
   ],
   "source": [
    "xm = [1,5,6,34,56,32,2]\n",
    "xm = sorted(xm)\n",
    "print(xm)\n",
    "elem = int(input('Enter the required element '))\n",
    "print(binary(elem, xm))"
   ]
  }
 ],
 "metadata": {
  "kernelspec": {
   "display_name": "Python 3",
   "language": "python",
   "name": "python3"
  },
  "language_info": {
   "codemirror_mode": {
    "name": "ipython",
    "version": 3
   },
   "file_extension": ".py",
   "mimetype": "text/x-python",
   "name": "python",
   "nbconvert_exporter": "python",
   "pygments_lexer": "ipython3",
   "version": "3.6.5"
  }
 },
 "nbformat": 4,
 "nbformat_minor": 2
}
